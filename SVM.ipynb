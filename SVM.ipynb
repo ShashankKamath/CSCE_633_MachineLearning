{
  "nbformat": 4,
  "nbformat_minor": 0,
  "metadata": {
    "colab": {
      "name": "SVM.ipynb",
      "version": "0.3.2",
      "provenance": [],
      "collapsed_sections": [],
      "include_colab_link": true
    },
    "kernelspec": {
      "name": "python3",
      "display_name": "Python 3"
    },
    "accelerator": "GPU"
  },
  "cells": [
    {
      "cell_type": "markdown",
      "metadata": {
        "id": "view-in-github",
        "colab_type": "text"
      },
      "source": [
        "<a href=\"https://colab.research.google.com/github/ShashankKamath/DecisionTree_ML/blob/master/SVM.ipynb\" target=\"_parent\"><img src=\"https://colab.research.google.com/assets/colab-badge.svg\" alt=\"Open In Colab\"/></a>"
      ]
    },
    {
      "metadata": {
        "id": "v6ufAP1WMqz-",
        "colab_type": "code",
        "outputId": "d76c3276-d271-4d64-c12d-0e62de414af0",
        "colab": {
          "resources": {
            "http://localhost:8080/nbextensions/google.colab/files.js": {
              "data": "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",
              "ok": true,
              "headers": [
                [
                  "content-type",
                  "application/javascript"
                ]
              ],
              "status": 200,
              "status_text": ""
            }
          },
          "base_uri": "https://localhost:8080/",
          "height": 74
        }
      },
      "cell_type": "code",
      "source": [
        "from google.colab import files\n",
        "uploaded = files.upload()\n",
        "import pandas as pd\n",
        "import numpy as np\n",
        "from sklearn import svm"
      ],
      "execution_count": 2,
      "outputs": [
        {
          "output_type": "display_data",
          "data": {
            "text/html": [
              "\n",
              "     <input type=\"file\" id=\"files-bfe23cb3-7135-49a5-af17-bd428579b650\" name=\"files[]\" multiple disabled />\n",
              "     <output id=\"result-bfe23cb3-7135-49a5-af17-bd428579b650\">\n",
              "      Upload widget is only available when the cell has been executed in the\n",
              "      current browser session. Please rerun this cell to enable.\n",
              "      </output>\n",
              "      <script src=\"/nbextensions/google.colab/files.js\"></script> "
            ],
            "text/plain": [
              "<IPython.core.display.HTML object>"
            ]
          },
          "metadata": {
            "tags": []
          }
        },
        {
          "output_type": "stream",
          "text": [
            "Saving hw2_question3.csv to hw2_question3.csv\n"
          ],
          "name": "stdout"
        }
      ]
    },
    {
      "metadata": {
        "id": "9F0tgxzhM2w1",
        "colab_type": "code",
        "outputId": "51fd8343-8957-4dd5-8ab4-89f40c856ac0",
        "colab": {
          "base_uri": "https://localhost:8080/",
          "height": 224
        }
      },
      "cell_type": "code",
      "source": [
        "data = pd.read_csv(\"hw2_question3.csv\")\n",
        "# header=[1,2,3,4,5,6,7,8,9,10,11,12,13,14,15,16,17,18,19,20,21,22,23,24,25,26,27,28,29,30,50]\n",
        "# header2=[31,32,33,34,35,36,37,38,39,40,41,42,43,44,45,46]\n",
        "header=[1,3,5,6,7,8,10,13,15,16,17,18,19,21,24,27,29,30,31,32,33,34,35,36,37,39,41,42,44,46,50]\n",
        "header2=[2,4,9,11,12,14,20,22,23,25,26,28,38,40,43,45]\n",
        "\n",
        "data.columns=header\n",
        "for i in header2:\n",
        "    data.insert(i,i,0)\n",
        "\n",
        "data.head()"
      ],
      "execution_count": 3,
      "outputs": [
        {
          "output_type": "execute_result",
          "data": {
            "text/html": [
              "<div>\n",
              "<style scoped>\n",
              "    .dataframe tbody tr th:only-of-type {\n",
              "        vertical-align: middle;\n",
              "    }\n",
              "\n",
              "    .dataframe tbody tr th {\n",
              "        vertical-align: top;\n",
              "    }\n",
              "\n",
              "    .dataframe thead th {\n",
              "        text-align: right;\n",
              "    }\n",
              "</style>\n",
              "<table border=\"1\" class=\"dataframe\">\n",
              "  <thead>\n",
              "    <tr style=\"text-align: right;\">\n",
              "      <th></th>\n",
              "      <th>1</th>\n",
              "      <th>3</th>\n",
              "      <th>2</th>\n",
              "      <th>5</th>\n",
              "      <th>4</th>\n",
              "      <th>6</th>\n",
              "      <th>7</th>\n",
              "      <th>8</th>\n",
              "      <th>10</th>\n",
              "      <th>9</th>\n",
              "      <th>...</th>\n",
              "      <th>39</th>\n",
              "      <th>38</th>\n",
              "      <th>41</th>\n",
              "      <th>40</th>\n",
              "      <th>42</th>\n",
              "      <th>44</th>\n",
              "      <th>43</th>\n",
              "      <th>46</th>\n",
              "      <th>45</th>\n",
              "      <th>50</th>\n",
              "    </tr>\n",
              "  </thead>\n",
              "  <tbody>\n",
              "    <tr>\n",
              "      <th>0</th>\n",
              "      <td>1</td>\n",
              "      <td>1</td>\n",
              "      <td>0</td>\n",
              "      <td>1</td>\n",
              "      <td>0</td>\n",
              "      <td>1</td>\n",
              "      <td>1</td>\n",
              "      <td>-1</td>\n",
              "      <td>0</td>\n",
              "      <td>0</td>\n",
              "      <td>...</td>\n",
              "      <td>0</td>\n",
              "      <td>0</td>\n",
              "      <td>-1</td>\n",
              "      <td>0</td>\n",
              "      <td>1</td>\n",
              "      <td>1</td>\n",
              "      <td>0</td>\n",
              "      <td>1</td>\n",
              "      <td>0</td>\n",
              "      <td>-1</td>\n",
              "    </tr>\n",
              "    <tr>\n",
              "      <th>1</th>\n",
              "      <td>1</td>\n",
              "      <td>0</td>\n",
              "      <td>0</td>\n",
              "      <td>1</td>\n",
              "      <td>0</td>\n",
              "      <td>1</td>\n",
              "      <td>1</td>\n",
              "      <td>-1</td>\n",
              "      <td>-1</td>\n",
              "      <td>0</td>\n",
              "      <td>...</td>\n",
              "      <td>1</td>\n",
              "      <td>0</td>\n",
              "      <td>-1</td>\n",
              "      <td>0</td>\n",
              "      <td>1</td>\n",
              "      <td>0</td>\n",
              "      <td>0</td>\n",
              "      <td>-1</td>\n",
              "      <td>0</td>\n",
              "      <td>-1</td>\n",
              "    </tr>\n",
              "    <tr>\n",
              "      <th>2</th>\n",
              "      <td>1</td>\n",
              "      <td>0</td>\n",
              "      <td>0</td>\n",
              "      <td>1</td>\n",
              "      <td>0</td>\n",
              "      <td>1</td>\n",
              "      <td>1</td>\n",
              "      <td>-1</td>\n",
              "      <td>-1</td>\n",
              "      <td>0</td>\n",
              "      <td>...</td>\n",
              "      <td>1</td>\n",
              "      <td>0</td>\n",
              "      <td>-1</td>\n",
              "      <td>0</td>\n",
              "      <td>1</td>\n",
              "      <td>-1</td>\n",
              "      <td>0</td>\n",
              "      <td>1</td>\n",
              "      <td>0</td>\n",
              "      <td>-1</td>\n",
              "    </tr>\n",
              "    <tr>\n",
              "      <th>3</th>\n",
              "      <td>1</td>\n",
              "      <td>0</td>\n",
              "      <td>0</td>\n",
              "      <td>-1</td>\n",
              "      <td>0</td>\n",
              "      <td>1</td>\n",
              "      <td>1</td>\n",
              "      <td>-1</td>\n",
              "      <td>1</td>\n",
              "      <td>0</td>\n",
              "      <td>...</td>\n",
              "      <td>0</td>\n",
              "      <td>0</td>\n",
              "      <td>-1</td>\n",
              "      <td>0</td>\n",
              "      <td>1</td>\n",
              "      <td>1</td>\n",
              "      <td>0</td>\n",
              "      <td>1</td>\n",
              "      <td>0</td>\n",
              "      <td>1</td>\n",
              "    </tr>\n",
              "    <tr>\n",
              "      <th>4</th>\n",
              "      <td>-1</td>\n",
              "      <td>0</td>\n",
              "      <td>0</td>\n",
              "      <td>-1</td>\n",
              "      <td>0</td>\n",
              "      <td>1</td>\n",
              "      <td>-1</td>\n",
              "      <td>-1</td>\n",
              "      <td>1</td>\n",
              "      <td>0</td>\n",
              "      <td>...</td>\n",
              "      <td>1</td>\n",
              "      <td>0</td>\n",
              "      <td>-1</td>\n",
              "      <td>0</td>\n",
              "      <td>1</td>\n",
              "      <td>-1</td>\n",
              "      <td>0</td>\n",
              "      <td>-1</td>\n",
              "      <td>0</td>\n",
              "      <td>1</td>\n",
              "    </tr>\n",
              "  </tbody>\n",
              "</table>\n",
              "<p>5 rows × 47 columns</p>\n",
              "</div>"
            ],
            "text/plain": [
              "   1   3   2   5   4   6   7   8   10  9  ...  39  38  41  40  42  44  43  46  \\\n",
              "0   1   1   0   1   0   1   1  -1   0   0 ...   0   0  -1   0   1   1   0   1   \n",
              "1   1   0   0   1   0   1   1  -1  -1   0 ...   1   0  -1   0   1   0   0  -1   \n",
              "2   1   0   0   1   0   1   1  -1  -1   0 ...   1   0  -1   0   1  -1   0   1   \n",
              "3   1   0   0  -1   0   1   1  -1   1   0 ...   0   0  -1   0   1   1   0   1   \n",
              "4  -1   0   0  -1   0   1  -1  -1   1   0 ...   1   0  -1   0   1  -1   0  -1   \n",
              "\n",
              "   45  50  \n",
              "0   0  -1  \n",
              "1   0  -1  \n",
              "2   0  -1  \n",
              "3   0   1  \n",
              "4   0   1  \n",
              "\n",
              "[5 rows x 47 columns]"
            ]
          },
          "metadata": {
            "tags": []
          },
          "execution_count": 3
        }
      ]
    },
    {
      "metadata": {
        "id": "K2ky3vO5ovXP",
        "colab_type": "code",
        "colab": {}
      },
      "cell_type": "code",
      "source": [
        "f_columns=[3,10,13,21,24,27,39,44]\n",
        "for index,row in data.iterrows():\n",
        "  for c_no in f_columns:\n",
        "    if row[c_no]==-1:\n",
        "      row[c_no-1]=1\n",
        "      row[c_no]=0\n",
        "      row[c_no+1]=0\n",
        "    elif row[c_no]==0:\n",
        "      row[c_no-1]=0\n",
        "      row[c_no]=1\n",
        "      row[c_no+1]=0    \n",
        "    elif row[c_no]==1:\n",
        "      row[c_no-1]=0\n",
        "      row[c_no]=0\n",
        "      row[c_no+1]=1    "
      ],
      "execution_count": 0,
      "outputs": []
    },
    {
      "metadata": {
        "id": "h2N-ZMu1Ra2i",
        "colab_type": "code",
        "colab": {}
      },
      "cell_type": "code",
      "source": [
        "import random\n",
        "dataset=data.values.tolist()\n",
        "random.shuffle(dataset)\n",
        "train_set=dataset[:7369]\n",
        "test_set=dataset[7370:]"
      ],
      "execution_count": 0,
      "outputs": []
    },
    {
      "metadata": {
        "id": "zjoBhg12V3KM",
        "colab_type": "code",
        "colab": {}
      },
      "cell_type": "code",
      "source": [
        "train_array=np.array(train_set)\n",
        "train_array_X = train_array[:,:-1]\n",
        "train_array_Y =train_array[:,-1]\n",
        "test_array=np.array(test_set)\n",
        "test_array_X=test_array[:,:-1]\n",
        "test_array_Y=test_array[:,-1]"
      ],
      "execution_count": 0,
      "outputs": []
    },
    {
      "metadata": {
        "id": "opJkgMI5__gB",
        "colab_type": "code",
        "colab": {}
      },
      "cell_type": "code",
      "source": [
        "from random import seed\n",
        "from random import randrange\n",
        "def cv_split(data, folds=3):\n",
        "\tdata_split = list()\n",
        "\tdata_copy = list(data)\n",
        "\tfold_size = int(len(data) / folds)\n",
        "\tfor i in range(folds):\n",
        "\t\tfld = list()\n",
        "\t\twhile len(fld) < fold_size:\n",
        "\t\t\tindex = randrange(len(data_copy))\n",
        "\t\t\tfld.append(data_copy.pop(index))\n",
        "\t\tdata_split.append(fld)\n",
        "\treturn data_split"
      ],
      "execution_count": 0,
      "outputs": []
    },
    {
      "metadata": {
        "id": "FD9jJL0zAQmO",
        "colab_type": "code",
        "colab": {}
      },
      "cell_type": "code",
      "source": [
        "import time\n",
        "import operator\n",
        "num_of_simulations=5\n",
        "# c_list=[0.000001,0.00001,0.0001,0.001,0.01,0.1,1,10,100,1000]\n",
        "c_list=list(np.arange(0.01,10,0.01))\n",
        "total_accuracy=[]\n",
        "total_time=[]\n",
        "\n",
        "for c in range(len(c_list)):\n",
        "  model = svm.SVC(C=c_list[c],kernel='linear')\n",
        "#   print(\"C: \",c_list[c])\n",
        "  total_accuracy.append(0)\n",
        "  total_time.append(0)\n",
        "  accuracy=[]\n",
        "  running_time=[]\n",
        "  for i in range(0,num_of_simulations):\n",
        "#     print(\"Simulation No: \", i)\n",
        "    seed(i)\n",
        "    folds = cv_split(train_set, 3)\n",
        "    for x in range(len(folds)):\n",
        "\n",
        "        CVtest_set = folds[x]\n",
        "        CVtrain_set = []\n",
        "        for y in range(len(folds)):\n",
        "          if y != x:\n",
        "            CVtrain_set.extend(folds[y])\n",
        "\n",
        "    CVtrain_array=np.array(CVtrain_set)\n",
        "    CVtrain_array_X = CVtrain_array[:,:-1]\n",
        "    CVtrain_array_Y =CVtrain_array[:,-1]\n",
        "\n",
        "    CVtest_array=np.array(CVtest_set)\n",
        "    CVtest_array_X=CVtest_array[:,:-1]\n",
        "    CVtest_array_Y=CVtest_array[:,-1]\n",
        "    \n",
        "    start_time=time.time()\n",
        "    model.fit(CVtrain_array_X,CVtrain_array_Y)\n",
        "    stop_time=time.time()\n",
        "    running_time.append(stop_time-start_time)\n",
        "    \n",
        "    class_predicted=[]\n",
        "    class_predicted=model.predict(CVtest_array_X)\n",
        "    score=0\n",
        "    for j in range(0,len(CVtest_array_Y)):\n",
        "      if CVtest_array_Y[j]==class_predicted[j]:\n",
        "        score+=1\n",
        "    accuracy.append(score/len(class_predicted))\n",
        "    \n",
        "#     print(\"Accuracy: \", accuracy)\n",
        "  total_time[c]=sum(running_time)/len(running_time)\n",
        "  total_accuracy[c]=(sum(accuracy)/len(accuracy))*100"
      ],
      "execution_count": 0,
      "outputs": []
    },
    {
      "metadata": {
        "id": "C0Y4u9MYH8T3",
        "colab_type": "text"
      },
      "cell_type": "markdown",
      "source": [
        "Using the Best C on Test Data"
      ]
    },
    {
      "metadata": {
        "id": "rGeIu2j16E-A",
        "colab_type": "code",
        "colab": {}
      },
      "cell_type": "code",
      "source": [
        "max_index=[i for i, x in enumerate(total_accuracy) if x == max(total_accuracy)]\n",
        "max_accuracy=0\n",
        "for index in range(len(max_index)):\n",
        "  c_best=c_list[max_index[index]]\n",
        "  model = svm.SVC(C=c_best,kernel='linear')\n",
        "  model.fit(train_array_X,train_array_Y)\n",
        "  y_predict=model.predict(test_array_X)\n",
        "  score=0\n",
        "  for i in range(0,len(test_array_Y)):\n",
        "    if test_array_Y[i]==y_predict[i]:\n",
        "      score+=1\n",
        "  accuracy=(score/len(y_predict))*100\n",
        "  if accuracy>=max_accuracy:\n",
        "    max_accuracy=accuracy\n",
        "    c=c_best\n",
        "print(\"Accuracy: \", max_accuracy)\n",
        "print(\"C:\", c)"
      ],
      "execution_count": 0,
      "outputs": []
    },
    {
      "metadata": {
        "id": "v_wE4bN7281l",
        "colab_type": "text"
      },
      "cell_type": "markdown",
      "source": [
        "for 5 sims\n",
        "Accuracy:  94.00108577633007 \n",
        "C: 0.87\n",
        "\n",
        "for 1 sim\n",
        "Accuracy:  94.10966340933767 \n",
        "C: 1.6299999999999992"
      ]
    },
    {
      "metadata": {
        "id": "wseTJZiOKynV",
        "colab_type": "text"
      },
      "cell_type": "markdown",
      "source": [
        "For Non-Linear Functions:\n"
      ]
    },
    {
      "metadata": {
        "id": "T86hwZ2nK1qT",
        "colab_type": "code",
        "colab": {}
      },
      "cell_type": "code",
      "source": [
        "import matplotlib.pyplot as plt\n",
        "plt.plot(c_list,total_accuracy)\n",
        "plt.xlabel(\"Misclassification Cost: C [0.01:10:0.01]\")\n",
        "plt.ylabel(\"Accuracy\")\n",
        "plt.title(\"Accuracy Vs Misclassification Cost\")\n",
        "plt.show()"
      ],
      "execution_count": 0,
      "outputs": []
    },
    {
      "metadata": {
        "id": "KdVNGwh8PbiJ",
        "colab_type": "code",
        "colab": {}
      },
      "cell_type": "code",
      "source": [
        "plt.scatter(c_list,total_time)\n",
        "plt.xlabel(\"Misclassification Cost: C [0.01:10:0.01]\")\n",
        "plt.ylabel(\"Average Time Taken at each C (sec)\")\n",
        "plt.title(\"Average Training Time Vs Misclassification Cost\")\n",
        "plt.show()"
      ],
      "execution_count": 0,
      "outputs": []
    },
    {
      "metadata": {
        "id": "nBsmt94Ci9SN",
        "colab_type": "text"
      },
      "cell_type": "markdown",
      "source": [
        "Quesiton Part 2\n",
        "Using Non-Linear Kernels"
      ]
    },
    {
      "metadata": {
        "id": "_WA3N_dhjDSr",
        "colab_type": "code",
        "colab": {}
      },
      "cell_type": "code",
      "source": [
        "import time\n",
        "num_of_simulations=1\n",
        "c_list=list(np.arange(0.01,100,0.1))\n",
        "gamma_list=list(np.arange(0.0001,1,0.1))\n",
        "total_accuracy=[]\n",
        "total_time=[]\n",
        "\n",
        "for c in range(len(c_list)):\n",
        "    total_accuracy.append([])\n",
        "    total_time.append([])\n",
        "    for g in range(len(gamma_list)):\n",
        "      model = svm.SVC(C=c_list[c],gamma=gamma_list[g],kernel='rbf')\n",
        "    #   print(\"C: \",c_list[c])\n",
        "\n",
        "      accuracy=[]\n",
        "      running_time=[]\n",
        "      for i in range(0,num_of_simulations):\n",
        "    #     print(\"Simulation No: \", i)\n",
        "        seed(i)\n",
        "        folds = cv_split(train_set, 3)\n",
        "        for x in range(len(folds)):\n",
        "\n",
        "            CVtest_set = folds[x]\n",
        "            CVtrain_set = []\n",
        "            for y in range(len(folds)):\n",
        "              if y != x:\n",
        "                CVtrain_set.extend(folds[y])\n",
        "\n",
        "        CVtrain_array=np.array(CVtrain_set)\n",
        "        CVtrain_array_X = CVtrain_array[:,:-1]\n",
        "        CVtrain_array_Y =CVtrain_array[:,-1]\n",
        "\n",
        "        CVtest_array=np.array(CVtest_set)\n",
        "        CVtest_array_X=CVtest_array[:,:-1]\n",
        "        CVtest_array_Y=CVtest_array[:,-1]\n",
        "\n",
        "        start_time=time.time()\n",
        "        model.fit(CVtrain_array_X,CVtrain_array_Y)\n",
        "        stop_time=time.time()\n",
        "        running_time.append(stop_time-start_time)\n",
        "\n",
        "        class_predicted=[]\n",
        "        class_predicted=model.predict(CVtest_array_X)\n",
        "        score=0\n",
        "        for j in range(0,len(CVtest_array_Y)):\n",
        "          if CVtest_array_Y[j]==class_predicted[j]:\n",
        "            score+=1\n",
        "        accuracy.append(score/len(class_predicted))\n",
        "\n",
        "    #     print(\"Accuracy: \", accuracy)\n",
        "      total_time[c].append(sum(running_time)/len(running_time))\n",
        "      total_accuracy[c].append((sum(accuracy)/len(accuracy))*100)\n",
        "\n",
        "total_accuracy=np.array(total_accuracy)\n",
        "total_time=np.array(total_time)\n",
        "max_index = np.where(total_accuracy == np.amax(total_accuracy))\n",
        "\n",
        "max_accuracy=0\n",
        "for index in range(len(max_index[0])):\n",
        "  c_best=c_list[max_index[0][index]]\n",
        "  g_best=gamma_list[max_index[1][index]]\n",
        "  model = svm.SVC(C=c_best,gamma=g_best,kernel='rbf')\n",
        "  model.fit(train_array_X,train_array_Y)\n",
        "  y_predict=model.predict(test_array_X)\n",
        "  score=0\n",
        "  for i in range(0,len(test_array_Y)):\n",
        "    if test_array_Y[i]==y_predict[i]:\n",
        "      score+=1\n",
        "  accuracy=(score/len(y_predict))*100\n",
        "  if accuracy>=max_accuracy:\n",
        "    max_accuracy=accuracy\n",
        "    c=c_best\n",
        "    g=g_best\n",
        "print(\"Accuracy: \", max_accuracy)\n",
        "print(\"C:\", c)\n",
        "print(\"Gamma: \",g)"
      ],
      "execution_count": 0,
      "outputs": []
    },
    {
      "metadata": {
        "id": "vZ52UyNdLjp-",
        "colab_type": "text"
      },
      "cell_type": "markdown",
      "source": [
        "Accuracy:  97.04125950054289\n",
        "C: 1.2100000000000002\n",
        "Gamma: 0.10010000000000001"
      ]
    },
    {
      "metadata": {
        "id": "6h0FbWIrNbhz",
        "colab_type": "code",
        "colab": {}
      },
      "cell_type": "code",
      "source": [
        "import time\n",
        "num_of_simulations=1\n",
        "c_list=list(np.arange(0.01,100,0.1))\n",
        "degree=[1,2,3,4,5]\n",
        "gamma_list=list(np.arange(0.0001,1,0.1))\n",
        "total_accuracy=[]\n",
        "total_time=[]\n",
        "\n",
        "for c in range(len(c_list)):\n",
        "    total_accuracy.append([])\n",
        "    total_time.append([])\n",
        "    for g in range(len(degree)):\n",
        "      model = svm.SVC(C=c_list[c],degree=degree[g],gamma=0.1,kernel='poly')\n",
        "    #   print(\"C: \",c_list[c])\n",
        "\n",
        "      accuracy=[]\n",
        "      running_time=[]\n",
        "      for i in range(0,num_of_simulations):\n",
        "    #     print(\"Simulation No: \", i)\n",
        "        seed(i)\n",
        "        folds = cv_split(train_set, 3)\n",
        "        for x in range(len(folds)):\n",
        "\n",
        "            CVtest_set = folds[x]\n",
        "            CVtrain_set = []\n",
        "            for y in range(len(folds)):\n",
        "              if y != x:\n",
        "                CVtrain_set.extend(folds[y])\n",
        "\n",
        "        CVtrain_array=np.array(CVtrain_set)\n",
        "        CVtrain_array_X = CVtrain_array[:,:-1]\n",
        "        CVtrain_array_Y =CVtrain_array[:,-1]\n",
        "\n",
        "        CVtest_array=np.array(CVtest_set)\n",
        "        CVtest_array_X=CVtest_array[:,:-1]\n",
        "        CVtest_array_Y=CVtest_array[:,-1]\n",
        "\n",
        "        start_time=time.time()\n",
        "        model.fit(CVtrain_array_X,CVtrain_array_Y)\n",
        "        stop_time=time.time()\n",
        "        running_time.append(stop_time-start_time)\n",
        "\n",
        "        class_predicted=[]\n",
        "        class_predicted=model.predict(CVtest_array_X)\n",
        "        score=0\n",
        "        for j in range(0,len(CVtest_array_Y)):\n",
        "          if CVtest_array_Y[j]==class_predicted[j]:\n",
        "            score+=1\n",
        "        accuracy.append(score/len(class_predicted))\n",
        "\n",
        "    #     print(\"Accuracy: \", accuracy)\n",
        "      total_time[c].append(sum(running_time)/len(running_time))\n",
        "      total_accuracy[c].append((sum(accuracy)/len(accuracy))*100)\n",
        "\n",
        "total_accuracy=np.array(total_accuracy)\n",
        "total_time=np.array(total_time)\n",
        "max_index = np.where(total_accuracy == np.amax(total_accuracy))\n",
        "\n",
        "max_accuracy=0\n",
        "for index in range(len(max_index[0])):\n",
        "  c_best=c_list[max_index[0][index]]\n",
        "  d_best=degree[max_index[1][index]]\n",
        "  model = svm.SVC(C=c_best,degree=d_best,gamma=0.1,kernel='poly')\n",
        "  model.fit(train_array_X,train_array_Y)\n",
        "  y_predict=model.predict(test_array_X)\n",
        "  score=0\n",
        "  for i in range(0,len(test_array_Y)):\n",
        "    if test_array_Y[i]==y_predict[i]:\n",
        "      score+=1\n",
        "  accuracy=(score/len(y_predict))*100\n",
        "  if accuracy>=max_accuracy:\n",
        "    max_accuracy=accuracy\n",
        "    c=c_best\n",
        "    d=d_best\n",
        "print(\"Accuracy: \", max_accuracy)\n",
        "print(\"C:\", c)\n",
        "print(\"Degree: \",d)"
      ],
      "execution_count": 0,
      "outputs": []
    },
    {
      "metadata": {
        "id": "k5f3NcOq0rBO",
        "colab_type": "text"
      },
      "cell_type": "markdown",
      "source": [
        "Poly\n",
        "Accuracy:  96.66123778501628\n",
        "C: 0.01\n",
        "G=0.1\n",
        "Degree:  5\n",
        "\n",
        "\n",
        "Accuracy:  95.98262757871878\n",
        "C: 0.01\n",
        "Gamma: 1\n",
        "Degree:  2\n",
        "\n",
        "{'C': 0.1, 'degree': 3, 'gamma': 0.1, 'kernel': 'poly'}\n",
        "Accuracy: 96.30836047774159"
      ]
    },
    {
      "metadata": {
        "id": "DifgtGcn0pNq",
        "colab_type": "code",
        "colab": {
          "base_uri": "https://localhost:8080/",
          "height": 84
        },
        "outputId": "eae27bfd-0224-434a-dda7-e5cfe3fdb752"
      },
      "cell_type": "code",
      "source": [
        "import time\n",
        "num_of_simulations=1\n",
        "c_list=[1.27]\n",
        "gamma_list=[0.1]\n",
        "##GAMMA after 1 waste\n",
        "#c_list=list(np.arange(0.01,100,0.1))\n",
        "#\n",
        "#gamma_list=list(np.arange(0.0001,1,0.1))\n",
        "#c_list=[0.1,1]\n",
        "#gamma_list=[0.1]\n",
        "degree=[5]\n",
        "total_accuracy=[]\n",
        "total_time=[]\n",
        "\n",
        "for c in range(len(c_list)):\n",
        "    total_accuracy.append([])\n",
        "    total_time.append([])\n",
        "    for g in range(len(gamma_list)):\n",
        "        total_accuracy[c].append([])\n",
        "        total_time[c].append([])\n",
        "        for d in range(len(degree)):\n",
        "          model = svm.SVC(C=c_list[c],degree=degree[d],gamma=gamma_list[g],kernel='poly')\n",
        "        #   print(\"C: \",c_list[c])\n",
        "\n",
        "          accuracy=[]\n",
        "          running_time=[]\n",
        "          for i in range(0,num_of_simulations):\n",
        "        #     print(\"Simulation No: \", i)\n",
        "            seed(i)\n",
        "            folds = cv_split(train_set, 3)\n",
        "            for x in range(len(folds)):\n",
        "\n",
        "                CVtest_set = folds[x]\n",
        "                CVtrain_set = []\n",
        "                for y in range(len(folds)):\n",
        "                  if y != x:\n",
        "                    CVtrain_set.extend(folds[y])\n",
        "\n",
        "            CVtrain_array=np.array(CVtrain_set)\n",
        "            CVtrain_array_X = CVtrain_array[:,:-1]\n",
        "            CVtrain_array_Y =CVtrain_array[:,-1]\n",
        "\n",
        "            CVtest_array=np.array(CVtest_set)\n",
        "            CVtest_array_X=CVtest_array[:,:-1]\n",
        "            CVtest_array_Y=CVtest_array[:,-1]\n",
        "\n",
        "            start_time=time.time()\n",
        "            model.fit(CVtrain_array_X,CVtrain_array_Y)\n",
        "            stop_time=time.time()\n",
        "            running_time.append(stop_time-start_time)\n",
        "\n",
        "            class_predicted=[]\n",
        "            class_predicted=model.predict(CVtest_array_X)\n",
        "            score=0\n",
        "            for j in range(0,len(CVtest_array_Y)):\n",
        "              if CVtest_array_Y[j]==class_predicted[j]:\n",
        "                score+=1\n",
        "            accuracy.append(score/len(class_predicted))\n",
        "\n",
        "        #     print(\"Accuracy: \", accuracy)\n",
        "          total_time[c][g].append(sum(running_time)/len(running_time))\n",
        "          total_accuracy[c][g].append((sum(accuracy)/len(accuracy))*100)\n",
        "\n",
        "total_accuracy=np.array(total_accuracy)\n",
        "total_time=np.array(total_time)\n",
        "ind = np.unravel_index(np.argmax(total_accuracy, axis=None), total_accuracy.shape)\n",
        "model = svm.SVC(C=c_list[ind[0]],degree=degree[ind[2]],gamma=gamma_list[ind[1]],kernel='poly')\n",
        "model.fit(train_array_X,train_array_Y)\n",
        "y_predict=model.predict(test_array_X)\n",
        "score=0\n",
        "for i in range(0,len(test_array_Y)):\n",
        "    if test_array_Y[i]==y_predict[i]:\n",
        "        score+=1\n",
        "accuracy=(score/len(y_predict))*100\n",
        "print(\"Accuracy: \", accuracy)\n",
        "print(\"C:\", c_list[ind[0]])\n",
        "print(\"Gamma:\",gamma_list[ind[1]])\n",
        "print(\"Degree: \",degree[ind[2]])"
      ],
      "execution_count": 9,
      "outputs": [
        {
          "output_type": "stream",
          "text": [
            "Accuracy:  96.22692725298589\n",
            "C: 1.27\n",
            "Gamma: 0.1\n",
            "Degree:  5\n"
          ],
          "name": "stdout"
        }
      ]
    },
    {
      "metadata": {
        "id": "eBo0RXTL_xy-",
        "colab_type": "code",
        "colab": {}
      },
      "cell_type": "code",
      "source": [
        "total_time\n"
      ],
      "execution_count": 0,
      "outputs": []
    },
    {
      "metadata": {
        "id": "8ty0yseW_Wtb",
        "colab_type": "code",
        "colab": {}
      },
      "cell_type": "code",
      "source": [
        "import matplotlib.pyplot as plt\n",
        "from mpl_toolkits.mplot3d import Axes3D\n",
        "Axes3D.scatter(range(len(total_)), ys, zs=0,"
      ],
      "execution_count": 0,
      "outputs": []
    }
  ]
}