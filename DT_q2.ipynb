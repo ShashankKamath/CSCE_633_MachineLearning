{
  "nbformat": 4,
  "nbformat_minor": 0,
  "metadata": {
    "colab": {
      "name": "DT_q2.ipynb",
      "version": "0.3.2",
      "provenance": [],
      "collapsed_sections": [],
      "include_colab_link": true
    },
    "kernelspec": {
      "name": "python3",
      "display_name": "Python 3"
    },
    "accelerator": "GPU"
  },
  "cells": [
    {
      "cell_type": "markdown",
      "metadata": {
        "id": "view-in-github",
        "colab_type": "text"
      },
      "source": [
        "<a href=\"https://colab.research.google.com/github/ShashankKamath/DecisionTree_ML/blob/master/DT_q2.ipynb\" target=\"_parent\"><img src=\"https://colab.research.google.com/assets/colab-badge.svg\" alt=\"Open In Colab\"/></a>"
      ]
    },
    {
      "metadata": {
        "id": "j_SETBukGbEO",
        "colab_type": "code",
        "colab": {}
      },
      "cell_type": "code",
      "source": [
        "from __future__ import print_function"
      ],
      "execution_count": 0,
      "outputs": []
    },
    {
      "metadata": {
        "id": "hJQB_6vI2rRk",
        "colab_type": "code",
        "outputId": "0b889c6f-bd7a-40e6-d2ac-a6c7246161d4",
        "colab": {
          "resources": {
            "http://localhost:8080/nbextensions/google.colab/files.js": {
              "data": "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",
              "ok": true,
              "headers": [
                [
                  "content-type",
                  "application/javascript"
                ]
              ],
              "status": 200,
              "status_text": ""
            }
          },
          "base_uri": "https://localhost:8080/",
          "height": 91
        }
      },
      "cell_type": "code",
      "source": [
        "from google.colab import files\n",
        "uploaded = files.upload()\n"
      ],
      "execution_count": 2,
      "outputs": [
        {
          "output_type": "display_data",
          "data": {
            "text/html": [
              "\n",
              "     <input type=\"file\" id=\"files-5fc44b7d-adc3-4bc3-9662-5cf9ff8fbe2b\" name=\"files[]\" multiple disabled />\n",
              "     <output id=\"result-5fc44b7d-adc3-4bc3-9662-5cf9ff8fbe2b\">\n",
              "      Upload widget is only available when the cell has been executed in the\n",
              "      current browser session. Please rerun this cell to enable.\n",
              "      </output>\n",
              "      <script src=\"/nbextensions/google.colab/files.js\"></script> "
            ],
            "text/plain": [
              "<IPython.core.display.HTML object>"
            ]
          },
          "metadata": {
            "tags": []
          }
        },
        {
          "output_type": "stream",
          "text": [
            "Saving hw2_question1.csv to hw2_question1.csv\n"
          ],
          "name": "stdout"
        }
      ]
    },
    {
      "metadata": {
        "id": "-hDwJa-KzKt2",
        "colab_type": "code",
        "colab": {}
      },
      "cell_type": "code",
      "source": [
        "import pandas as pd\n",
        "import numpy as np\n",
        "data = pd.read_csv(\"hw2_question1.csv\")\n",
        "train_set=data.values.tolist()\n",
        "header=[\"Thickness\", \"Cellsize\", \"Cellshape\", \"Adhesion\",\"Ecellsize\",\"Nuclei\",\"Chromatin\",\"Nucleoli\",\"Mitosis\",\"Class\"]\n"
      ],
      "execution_count": 0,
      "outputs": []
    },
    {
      "metadata": {
        "id": "RGsbTKDRBB0C",
        "colab_type": "code",
        "colab": {
          "base_uri": "https://localhost:8080/",
          "height": 34
        },
        "outputId": "75cacfc9-79c1-481e-8df2-c54042cea38a"
      },
      "cell_type": "code",
      "source": [
        "#class_counts=data['Class'].value_counts()\n",
        "#print('Class Benign Count: ' + repr(class_counts[2]))\n",
        "#print('Class Malignant Count: ' + repr(class_counts[4]))"
      ],
      "execution_count": 22,
      "outputs": [
        {
          "output_type": "execute_result",
          "data": {
            "text/plain": [
              "[5, 1, 1, 1, 2, 1, 3, 1, 1, 2]"
            ]
          },
          "metadata": {
            "tags": []
          },
          "execution_count": 22
        }
      ]
    },
    {
      "metadata": {
        "id": "uSillIK0_maA",
        "colab_type": "code",
        "colab": {
          "base_uri": "https://localhost:8080/",
          "height": 215
        },
        "outputId": "8f6091a2-f3b9-4eb7-d102-5b783319814f"
      },
      "cell_type": "code",
      "source": [
        "data.head()"
      ],
      "execution_count": 7,
      "outputs": [
        {
          "output_type": "execute_result",
          "data": {
            "text/html": [
              "<div>\n",
              "<style scoped>\n",
              "    .dataframe tbody tr th:only-of-type {\n",
              "        vertical-align: middle;\n",
              "    }\n",
              "\n",
              "    .dataframe tbody tr th {\n",
              "        vertical-align: top;\n",
              "    }\n",
              "\n",
              "    .dataframe thead th {\n",
              "        text-align: right;\n",
              "    }\n",
              "</style>\n",
              "<table border=\"1\" class=\"dataframe\">\n",
              "  <thead>\n",
              "    <tr style=\"text-align: right;\">\n",
              "      <th></th>\n",
              "      <th>Thickness</th>\n",
              "      <th>Cellsize</th>\n",
              "      <th>Cellshape</th>\n",
              "      <th>Adhesion</th>\n",
              "      <th>Ecellsize</th>\n",
              "      <th>Nuclei</th>\n",
              "      <th>Chromatin</th>\n",
              "      <th>Nucleoli</th>\n",
              "      <th>Mitosis</th>\n",
              "      <th>Class</th>\n",
              "    </tr>\n",
              "  </thead>\n",
              "  <tbody>\n",
              "    <tr>\n",
              "      <th>0</th>\n",
              "      <td>5</td>\n",
              "      <td>1</td>\n",
              "      <td>1</td>\n",
              "      <td>1</td>\n",
              "      <td>2</td>\n",
              "      <td>1</td>\n",
              "      <td>3</td>\n",
              "      <td>1</td>\n",
              "      <td>1</td>\n",
              "      <td>2</td>\n",
              "    </tr>\n",
              "    <tr>\n",
              "      <th>1</th>\n",
              "      <td>5</td>\n",
              "      <td>4</td>\n",
              "      <td>4</td>\n",
              "      <td>5</td>\n",
              "      <td>7</td>\n",
              "      <td>10</td>\n",
              "      <td>3</td>\n",
              "      <td>2</td>\n",
              "      <td>1</td>\n",
              "      <td>2</td>\n",
              "    </tr>\n",
              "    <tr>\n",
              "      <th>2</th>\n",
              "      <td>3</td>\n",
              "      <td>1</td>\n",
              "      <td>1</td>\n",
              "      <td>1</td>\n",
              "      <td>2</td>\n",
              "      <td>2</td>\n",
              "      <td>3</td>\n",
              "      <td>1</td>\n",
              "      <td>1</td>\n",
              "      <td>2</td>\n",
              "    </tr>\n",
              "    <tr>\n",
              "      <th>3</th>\n",
              "      <td>6</td>\n",
              "      <td>8</td>\n",
              "      <td>8</td>\n",
              "      <td>1</td>\n",
              "      <td>3</td>\n",
              "      <td>4</td>\n",
              "      <td>3</td>\n",
              "      <td>7</td>\n",
              "      <td>1</td>\n",
              "      <td>2</td>\n",
              "    </tr>\n",
              "    <tr>\n",
              "      <th>4</th>\n",
              "      <td>4</td>\n",
              "      <td>1</td>\n",
              "      <td>1</td>\n",
              "      <td>3</td>\n",
              "      <td>2</td>\n",
              "      <td>1</td>\n",
              "      <td>3</td>\n",
              "      <td>1</td>\n",
              "      <td>1</td>\n",
              "      <td>2</td>\n",
              "    </tr>\n",
              "  </tbody>\n",
              "</table>\n",
              "</div>"
            ],
            "text/plain": [
              "   Thickness  Cellsize  Cellshape  Adhesion  Ecellsize  Nuclei  Chromatin  \\\n",
              "0          5         1          1         1          2       1          3   \n",
              "1          5         4          4         5          7      10          3   \n",
              "2          3         1          1         1          2       2          3   \n",
              "3          6         8          8         1          3       4          3   \n",
              "4          4         1          1         3          2       1          3   \n",
              "\n",
              "   Nucleoli  Mitosis  Class  \n",
              "0         1        1      2  \n",
              "1         2        1      2  \n",
              "2         1        1      2  \n",
              "3         7        1      2  \n",
              "4         1        1      2  "
            ]
          },
          "metadata": {
            "tags": []
          },
          "execution_count": 7
        }
      ]
    },
    {
      "metadata": {
        "id": "KlEVPw3t_qbo",
        "colab_type": "code",
        "colab": {
          "base_uri": "https://localhost:8080/",
          "height": 34
        },
        "outputId": "b78a5dd7-5e75-47e4-ef6c-42fb75cd8818"
      },
      "cell_type": "code",
      "source": [
        "def unique_vals(rows, col):\n",
        "    \"\"\"Find the unique values for a column in a dataset.\"\"\"\n",
        "    return set([row[col] for row in rows])\n",
        "unique_vals(train_set, 1)"
      ],
      "execution_count": 24,
      "outputs": [
        {
          "output_type": "execute_result",
          "data": {
            "text/plain": [
              "{1, 2, 3, 4, 5, 6, 7, 8, 9, 10}"
            ]
          },
          "metadata": {
            "tags": []
          },
          "execution_count": 24
        }
      ]
    },
    {
      "metadata": {
        "id": "kgAaOd0xAEJt",
        "colab_type": "code",
        "colab": {
          "base_uri": "https://localhost:8080/",
          "height": 34
        },
        "outputId": "4e8f7f90-8ff4-41ff-e05f-d5d2276d0e62"
      },
      "cell_type": "code",
      "source": [
        "def class_counts(rows):\n",
        "    \"\"\"Counts the number of each type of example in a dataset.\"\"\"\n",
        "    counts = {}  # a dictionary of label -> count.\n",
        "    for row in rows:\n",
        "        # in our dataset format, the label is always the last column\n",
        "        label = row[-1]\n",
        "        if label not in counts:\n",
        "            counts[label] = 0\n",
        "        counts[label] += 1\n",
        "    return counts\n",
        "  \n",
        "class_counts(train_set)"
      ],
      "execution_count": 25,
      "outputs": [
        {
          "output_type": "execute_result",
          "data": {
            "text/plain": [
              "{2: 444, 4: 239}"
            ]
          },
          "metadata": {
            "tags": []
          },
          "execution_count": 25
        }
      ]
    },
    {
      "metadata": {
        "id": "iiNMEXJdB-9j",
        "colab_type": "code",
        "colab": {
          "base_uri": "https://localhost:8080/",
          "height": 34
        },
        "outputId": "92024da2-d1f6-40dc-efc9-65d2647eee24"
      },
      "cell_type": "code",
      "source": [
        "def is_numeric(value):\n",
        "    \"\"\"Test if a value is numeric.\"\"\"\n",
        "    return isinstance(value, int) or isinstance(value, float)\n",
        "is_numeric(7)"
      ],
      "execution_count": 26,
      "outputs": [
        {
          "output_type": "execute_result",
          "data": {
            "text/plain": [
              "True"
            ]
          },
          "metadata": {
            "tags": []
          },
          "execution_count": 26
        }
      ]
    },
    {
      "metadata": {
        "id": "I1Jo7aMYCMut",
        "colab_type": "code",
        "colab": {}
      },
      "cell_type": "code",
      "source": [
        "class Question:\n",
        "    \"\"\"A Question is used to partition a dataset.\n",
        "\n",
        "    This class just records a 'column number' (e.g., 0 for Color) and a\n",
        "    'column value' (e.g., Green). The 'match' method is used to compare\n",
        "    the feature value in an example to the feature value stored in the\n",
        "    question. See the demo below.\n",
        "    \"\"\"\n",
        "\n",
        "    def __init__(self, column, value):\n",
        "        self.column = column\n",
        "        self.value = value\n",
        "\n",
        "    def match(self, example):\n",
        "        # Compare the feature value in an example to the\n",
        "        # feature value in this question.\n",
        "        val = example[self.column]\n",
        "        if is_numeric(val):\n",
        "            return val >= self.value\n",
        "        else:\n",
        "            return val == self.value\n",
        "\n",
        "    def __repr__(self):\n",
        "        # This is just a helper method to print\n",
        "        # the question in a readable format.\n",
        "        condition = \"==\"\n",
        "        if is_numeric(self.value):\n",
        "            condition = \">=\"\n",
        "        return \"Is %s %s %s?\" % (header[self.column], condition, str(self.value))\n"
      ],
      "execution_count": 0,
      "outputs": []
    },
    {
      "metadata": {
        "id": "ERphJAFXCmxE",
        "colab_type": "code",
        "colab": {
          "base_uri": "https://localhost:8080/",
          "height": 34
        },
        "outputId": "c1574776-b529-4fdc-9bf9-24e738f0eadd"
      },
      "cell_type": "code",
      "source": [
        "q = Question(6,7)\n",
        "example = train_set[0]\n",
        "q.match(example)\n",
        "q"
      ],
      "execution_count": 57,
      "outputs": [
        {
          "output_type": "execute_result",
          "data": {
            "text/plain": [
              "Is Chromatin >= 7?"
            ]
          },
          "metadata": {
            "tags": []
          },
          "execution_count": 57
        }
      ]
    },
    {
      "metadata": {
        "id": "ervjNTmtENF5",
        "colab_type": "code",
        "colab": {}
      },
      "cell_type": "code",
      "source": [
        "def partition(rows, question):\n",
        "    \"\"\"Partitions a dataset.\n",
        "\n",
        "    For each row in the dataset, check if it matches the question. If\n",
        "    so, add it to 'true rows', otherwise, add it to 'false rows'.\n",
        "    \"\"\"\n",
        "    true_rows, false_rows = [], []\n",
        "    for row in rows:\n",
        "        if question.match(row):\n",
        "            true_rows.append(row)\n",
        "        else:\n",
        "            false_rows.append(row)\n",
        "    return true_rows, false_rows"
      ],
      "execution_count": 0,
      "outputs": []
    },
    {
      "metadata": {
        "id": "F1chNkv9ESqi",
        "colab_type": "code",
        "colab": {}
      },
      "cell_type": "code",
      "source": [
        "true_rows, false_rows = partition(train_set, Question(0, 2))"
      ],
      "execution_count": 0,
      "outputs": []
    },
    {
      "metadata": {
        "id": "UkITmm5xFZsG",
        "colab_type": "text"
      },
      "cell_type": "markdown",
      "source": [
        "This will give all values less than two in the first column"
      ]
    },
    {
      "metadata": {
        "id": "FnL9J7ZKFYnv",
        "colab_type": "code",
        "colab": {}
      },
      "cell_type": "code",
      "source": [
        "def gini(rows):\n",
        "    \"\"\"Calculate the Gini Impurity for a list of rows.\n",
        "\n",
        "    There are a few different ways to do this, I thought this one was\n",
        "    the most concise. See:\n",
        "    https://en.wikipedia.org/wiki/Decision_tree_learning#Gini_impurity\n",
        "    \"\"\"\n",
        "    counts = class_counts(rows)\n",
        "    impurity = 1\n",
        "    for lbl in counts:\n",
        "        prob_of_lbl = counts[lbl] / float(len(rows))\n",
        "        impurity -= prob_of_lbl**2\n",
        "    return impurity "
      ],
      "execution_count": 0,
      "outputs": []
    },
    {
      "metadata": {
        "id": "vNIbuyYtFmeb",
        "colab_type": "code",
        "colab": {}
      },
      "cell_type": "code",
      "source": [
        "def info_gain(left, right, current_uncertainty):\n",
        "    \"\"\"Information Gain.\n",
        "\n",
        "    The uncertainty of the starting node, minus the weighted impurity of\n",
        "    two child nodes.\n",
        "    \"\"\"\n",
        "    p = float(len(left)) / (len(left) + len(right))\n",
        "    return current_uncertainty - p * gini(left) - (1 - p) * gini(right)"
      ],
      "execution_count": 0,
      "outputs": []
    },
    {
      "metadata": {
        "id": "zPnyHTynFo49",
        "colab_type": "code",
        "colab": {
          "base_uri": "https://localhost:8080/",
          "height": 34
        },
        "outputId": "fd2c0765-9582-4c3b-c5ca-4d8603448ed8"
      },
      "cell_type": "code",
      "source": [
        "current_uncertainty = gini(train_set)\n",
        "current_uncertainty"
      ],
      "execution_count": 49,
      "outputs": [
        {
          "output_type": "execute_result",
          "data": {
            "text/plain": [
              "0.45495606541633354"
            ]
          },
          "metadata": {
            "tags": []
          },
          "execution_count": 49
        }
      ]
    },
    {
      "metadata": {
        "id": "htnar3UKF9ER",
        "colab_type": "code",
        "colab": {}
      },
      "cell_type": "code",
      "source": [
        "def find_best_split(rows):\n",
        "    \"\"\"Find the best question to ask by iterating over every feature / value\n",
        "    and calculating the information gain.\"\"\"\n",
        "    best_gain = 0  # keep track of the best information gain\n",
        "    best_question = None  # keep train of the feature / value that produced it\n",
        "    current_uncertainty = gini(rows)\n",
        "    n_features = len(rows[0]) - 1  # number of columns\n",
        "\n",
        "    for col in range(n_features):  # for each feature\n",
        "\n",
        "        values = set([row[col] for row in rows])  # unique values in the column\n",
        "\n",
        "        for val in values:  # for each value\n",
        "\n",
        "            question = Question(col, val)\n",
        "\n",
        "            # try splitting the dataset\n",
        "            true_rows, false_rows = partition(rows, question)\n",
        "\n",
        "            # Skip this split if it doesn't divide the\n",
        "            # dataset.\n",
        "            if len(true_rows) == 0 or len(false_rows) == 0:\n",
        "                continue\n",
        "\n",
        "            # Calculate the information gain from this split\n",
        "            gain = info_gain(true_rows, false_rows, current_uncertainty)\n",
        "\n",
        "            # You actually can use '>' instead of '>=' here\n",
        "            # but I wanted the tree to look a certain way for our\n",
        "            # toy dataset.\n",
        "            if gain >= best_gain:\n",
        "                best_gain, best_question = gain, question\n",
        "\n",
        "    return best_gain, best_question"
      ],
      "execution_count": 0,
      "outputs": []
    },
    {
      "metadata": {
        "id": "_NUkRm9THpkf",
        "colab_type": "code",
        "colab": {
          "base_uri": "https://localhost:8080/",
          "height": 34
        },
        "outputId": "2074fdd8-2220-4685-93eb-05c7800d0497"
      },
      "cell_type": "code",
      "source": [
        "best_gain, best_question = find_best_split(train_set)\n",
        "best_question"
      ],
      "execution_count": 64,
      "outputs": [
        {
          "output_type": "execute_result",
          "data": {
            "text/plain": [
              "Is Cellsize >= 3?"
            ]
          },
          "metadata": {
            "tags": []
          },
          "execution_count": 64
        }
      ]
    },
    {
      "metadata": {
        "id": "fD0XNKjnH4DZ",
        "colab_type": "code",
        "colab": {}
      },
      "cell_type": "code",
      "source": [
        "class Leaf:\n",
        "    \"\"\"A Leaf node classifies data.\n",
        "\n",
        "    This holds a dictionary of class (e.g., \"Apple\") -> number of times\n",
        "    it appears in the rows from the training data that reach this leaf.\n",
        "    \"\"\"\n",
        "\n",
        "    def __init__(self, rows):\n",
        "        self.predictions = class_counts(rows)"
      ],
      "execution_count": 0,
      "outputs": []
    },
    {
      "metadata": {
        "id": "QqVarO3CH5w1",
        "colab_type": "code",
        "colab": {}
      },
      "cell_type": "code",
      "source": [
        "class Decision_Node:\n",
        "    \"\"\"A Decision Node asks a question.\n",
        "\n",
        "    This holds a reference to the question, and to the two child nodes.\n",
        "    \"\"\"\n",
        "\n",
        "    def __init__(self,\n",
        "                 question,\n",
        "                 true_branch,\n",
        "                 false_branch):\n",
        "        self.question = question\n",
        "        self.true_branch = true_branch\n",
        "        self.false_branch = false_branch"
      ],
      "execution_count": 0,
      "outputs": []
    },
    {
      "metadata": {
        "id": "XlNwj3ZjH7CP",
        "colab_type": "code",
        "colab": {}
      },
      "cell_type": "code",
      "source": [
        "def build_tree(rows):\n",
        "    \"\"\"Builds the tree.\n",
        "\n",
        "    Rules of recursion: 1) Believe that it works. 2) Start by checking\n",
        "    for the base case (no further information gain). 3) Prepare for\n",
        "    giant stack traces.\n",
        "    \"\"\"\n",
        "\n",
        "    # Try partitioing the dataset on each of the unique attribute,\n",
        "    # calculate the information gain,\n",
        "    # and return the question that produces the highest gain.\n",
        "    gain, question = find_best_split(rows)\n",
        "\n",
        "    # Base case: no further info gain\n",
        "    # Since we can ask no further questions,\n",
        "    # we'll return a leaf.\n",
        "    if gain == 0:\n",
        "        return Leaf(rows)\n",
        "\n",
        "    # If we reach here, we have found a useful feature / value\n",
        "    # to partition on.\n",
        "    true_rows, false_rows = partition(rows, question)\n",
        "\n",
        "    # Recursively build the true branch.\n",
        "    true_branch = build_tree(true_rows)\n",
        "\n",
        "    # Recursively build the false branch.\n",
        "    false_branch = build_tree(false_rows)\n",
        "\n",
        "    # Return a Question node.\n",
        "    # This records the best feature / value to ask at this point,\n",
        "    # as well as the branches to follow\n",
        "    # dependingo on the answer.\n",
        "    return Decision_Node(question, true_branch, false_branch)"
      ],
      "execution_count": 0,
      "outputs": []
    },
    {
      "metadata": {
        "id": "vU2keUQAIBNy",
        "colab_type": "code",
        "colab": {}
      },
      "cell_type": "code",
      "source": [
        "def print_tree(node, spacing=\"\"):\n",
        "    \"\"\"World's most elegant tree printing function.\"\"\"\n",
        "\n",
        "    # Base case: we've reached a leaf\n",
        "    if isinstance(node, Leaf):\n",
        "        print (spacing + \"Predict\", node.predictions)\n",
        "        return\n",
        "\n",
        "    # Print the question at this node\n",
        "    print (spacing + str(node.question))\n",
        "\n",
        "    # Call this function recursively on the true branch\n",
        "    print (spacing + '--> True:')\n",
        "    print_tree(node.true_branch, spacing + \"  \")\n",
        "\n",
        "    # Call this function recursively on the false branch\n",
        "    print (spacing + '--> False:')\n",
        "    print_tree(node.false_branch, spacing + \"  \")"
      ],
      "execution_count": 0,
      "outputs": []
    },
    {
      "metadata": {
        "id": "vcRVvppHIFZa",
        "colab_type": "code",
        "colab": {}
      },
      "cell_type": "code",
      "source": [
        "my_tree = build_tree(train_set)"
      ],
      "execution_count": 0,
      "outputs": []
    },
    {
      "metadata": {
        "id": "J53GwGTsIJRZ",
        "colab_type": "code",
        "colab": {
          "base_uri": "https://localhost:8080/",
          "height": 2117
        },
        "outputId": "61e11096-6f9a-4802-b1ee-e7d3c812bce8"
      },
      "cell_type": "code",
      "source": [
        "print_tree(my_tree)"
      ],
      "execution_count": 70,
      "outputs": [
        {
          "output_type": "stream",
          "text": [
            "Is Cellsize >= 3?\n",
            "--> True:\n",
            "  Is Cellshape >= 3?\n",
            "  --> True:\n",
            "    Is Cellsize >= 5?\n",
            "    --> True:\n",
            "      Is Adhesion >= 2?\n",
            "      --> True:\n",
            "        Is Nucleoli >= 3?\n",
            "        --> True:\n",
            "          Predict {4: 136}\n",
            "        --> False:\n",
            "          Is Nucleoli >= 2?\n",
            "          --> True:\n",
            "            Is Chromatin >= 7?\n",
            "            --> True:\n",
            "              Predict {4: 4}\n",
            "            --> False:\n",
            "              Predict {2: 1}\n",
            "          --> False:\n",
            "            Predict {4: 22}\n",
            "      --> False:\n",
            "        Is Thickness >= 8?\n",
            "        --> True:\n",
            "          Predict {4: 7}\n",
            "        --> False:\n",
            "          Is Mitosis >= 3?\n",
            "          --> True:\n",
            "            Predict {4: 2}\n",
            "          --> False:\n",
            "            Predict {2: 2}\n",
            "    --> False:\n",
            "      Is Nuclei >= 3?\n",
            "      --> True:\n",
            "        Is Thickness >= 7?\n",
            "        --> True:\n",
            "          Is Nuclei >= 8?\n",
            "          --> True:\n",
            "            Predict {4: 22}\n",
            "          --> False:\n",
            "            Is Adhesion >= 5?\n",
            "            --> True:\n",
            "              Is Mitosis >= 2?\n",
            "              --> True:\n",
            "                Predict {2: 1}\n",
            "              --> False:\n",
            "                Predict {4: 1}\n",
            "            --> False:\n",
            "              Predict {4: 7}\n",
            "        --> False:\n",
            "          Is Thickness >= 6?\n",
            "          --> True:\n",
            "            Predict {2: 1}\n",
            "          --> False:\n",
            "            Is Nuclei >= 7?\n",
            "            --> True:\n",
            "              Is Chromatin >= 4?\n",
            "              --> True:\n",
            "                Predict {4: 11}\n",
            "              --> False:\n",
            "                Is Nucleoli >= 2?\n",
            "                --> True:\n",
            "                  Predict {2: 1}\n",
            "                --> False:\n",
            "                  Predict {4: 1}\n",
            "            --> False:\n",
            "              Is Ecellsize >= 4?\n",
            "              --> True:\n",
            "                Predict {2: 3}\n",
            "              --> False:\n",
            "                Is Nucleoli >= 3?\n",
            "                --> True:\n",
            "                  Predict {4: 5}\n",
            "                --> False:\n",
            "                  Predict {2: 1}\n",
            "      --> False:\n",
            "        Is Adhesion >= 4?\n",
            "        --> True:\n",
            "          Predict {4: 3}\n",
            "        --> False:\n",
            "          Is Nucleoli >= 9?\n",
            "          --> True:\n",
            "            Predict {4: 1}\n",
            "          --> False:\n",
            "            Predict {2: 10}\n",
            "  --> False:\n",
            "    Is Thickness >= 6?\n",
            "    --> True:\n",
            "      Predict {4: 4}\n",
            "    --> False:\n",
            "      Is Chromatin >= 8?\n",
            "      --> True:\n",
            "        Predict {4: 1}\n",
            "      --> False:\n",
            "        Predict {2: 18}\n",
            "--> False:\n",
            "  Is Nuclei >= 6?\n",
            "  --> True:\n",
            "    Is Thickness >= 4?\n",
            "    --> True:\n",
            "      Predict {4: 7}\n",
            "    --> False:\n",
            "      Predict {2: 1}\n",
            "  --> False:\n",
            "    Is Thickness >= 7?\n",
            "    --> True:\n",
            "      Is Chromatin >= 3?\n",
            "      --> True:\n",
            "        Predict {4: 3}\n",
            "      --> False:\n",
            "        Predict {2: 2}\n",
            "    --> False:\n",
            "      Is Nucleoli >= 10?\n",
            "      --> True:\n",
            "        Predict {4: 1}\n",
            "      --> False:\n",
            "        Is Nuclei >= 5?\n",
            "        --> True:\n",
            "          Is Ecellsize >= 2?\n",
            "          --> True:\n",
            "            Predict {2: 7}\n",
            "          --> False:\n",
            "            Predict {4: 1}\n",
            "        --> False:\n",
            "          Predict {2: 396}\n"
          ],
          "name": "stdout"
        }
      ]
    },
    {
      "metadata": {
        "id": "ppdZanNYI-bR",
        "colab_type": "text"
      },
      "cell_type": "markdown",
      "source": [
        "Predicting the Class"
      ]
    },
    {
      "metadata": {
        "id": "IZNRIv33I91h",
        "colab_type": "code",
        "colab": {}
      },
      "cell_type": "code",
      "source": [
        "def classify(row, node):\n",
        "    \"\"\"See the 'rules of recursion' above.\"\"\"\n",
        "\n",
        "    # Base case: we've reached a leaf\n",
        "    if isinstance(node, Leaf):\n",
        "        return node.predictions\n",
        "\n",
        "    # Decide whether to follow the true-branch or the false-branch.\n",
        "    # Compare the feature / value stored in the node,\n",
        "    # to the example we're considering.\n",
        "    if node.question.match(row):\n",
        "        return classify(row, node.true_branch)\n",
        "    else:\n",
        "        return classify(row, node.false_branch)"
      ],
      "execution_count": 0,
      "outputs": []
    },
    {
      "metadata": {
        "id": "h28YEgxXJMYx",
        "colab_type": "code",
        "colab": {
          "base_uri": "https://localhost:8080/",
          "height": 34
        },
        "outputId": "274b01e2-4bbc-4389-8310-11988178df2c"
      },
      "cell_type": "code",
      "source": [
        "classify(train_set[0], my_tree)"
      ],
      "execution_count": 73,
      "outputs": [
        {
          "output_type": "execute_result",
          "data": {
            "text/plain": [
              "{2: 396}"
            ]
          },
          "metadata": {
            "tags": []
          },
          "execution_count": 73
        }
      ]
    },
    {
      "metadata": {
        "id": "_KIZBuPTJQb6",
        "colab_type": "code",
        "colab": {}
      },
      "cell_type": "code",
      "source": [
        "def print_leaf(counts):\n",
        "    \"\"\"A nicer way to print the predictions at a leaf.\"\"\"\n",
        "    total = sum(counts.values()) * 1.0\n",
        "    probs = {}\n",
        "    for lbl in counts.keys():\n",
        "        probs[lbl] = str(int(counts[lbl] / total * 100)) + \"%\"\n",
        "    return probs"
      ],
      "execution_count": 0,
      "outputs": []
    },
    {
      "metadata": {
        "id": "1WDeXodcJY84",
        "colab_type": "code",
        "colab": {
          "base_uri": "https://localhost:8080/",
          "height": 34
        },
        "outputId": "25858393-8c71-453d-a438-9ffb5aba8a39"
      },
      "cell_type": "code",
      "source": [
        "print_leaf(classify(train_set[], my_tree))"
      ],
      "execution_count": 76,
      "outputs": [
        {
          "output_type": "execute_result",
          "data": {
            "text/plain": [
              "{4: '100%'}"
            ]
          },
          "metadata": {
            "tags": []
          },
          "execution_count": 76
        }
      ]
    },
    {
      "metadata": {
        "id": "9jGDOsPXJepz",
        "colab_type": "code",
        "colab": {
          "base_uri": "https://localhost:8080/",
          "height": 3293
        },
        "outputId": "7a09ba78-4a8e-4917-f8d9-b5081983cbb8"
      },
      "cell_type": "code",
      "source": [
        "test_set=train_set[]\n",
        "for row in test_set:\n",
        "    print (\"Actual: %s. Predicted: %s\" %\n",
        "           (row[-1], print_leaf(classify(row, my_tree))))"
      ],
      "execution_count": 80,
      "outputs": [
        {
          "output_type": "stream",
          "text": [
            "Actual: 4. Predicted: {4: '100%'}\n",
            "Actual: 2. Predicted: {2: '100%'}\n",
            "Actual: 2. Predicted: {2: '100%'}\n",
            "Actual: 2. Predicted: {2: '100%'}\n",
            "Actual: 2. Predicted: {2: '100%'}\n",
            "Actual: 2. Predicted: {2: '100%'}\n",
            "Actual: 2. Predicted: {2: '100%'}\n",
            "Actual: 4. Predicted: {4: '100%'}\n",
            "Actual: 2. Predicted: {2: '100%'}\n",
            "Actual: 4. Predicted: {4: '100%'}\n",
            "Actual: 4. Predicted: {4: '100%'}\n",
            "Actual: 2. Predicted: {2: '100%'}\n",
            "Actual: 2. Predicted: {2: '100%'}\n",
            "Actual: 4. Predicted: {4: '100%'}\n",
            "Actual: 2. Predicted: {2: '100%'}\n",
            "Actual: 4. Predicted: {4: '100%'}\n",
            "Actual: 4. Predicted: {4: '100%'}\n",
            "Actual: 2. Predicted: {2: '100%'}\n",
            "Actual: 2. Predicted: {2: '100%'}\n",
            "Actual: 4. Predicted: {4: '100%'}\n",
            "Actual: 2. Predicted: {2: '100%'}\n",
            "Actual: 2. Predicted: {2: '100%'}\n",
            "Actual: 2. Predicted: {2: '100%'}\n",
            "Actual: 2. Predicted: {2: '100%'}\n",
            "Actual: 2. Predicted: {2: '100%'}\n",
            "Actual: 2. Predicted: {2: '100%'}\n",
            "Actual: 4. Predicted: {4: '100%'}\n",
            "Actual: 2. Predicted: {2: '100%'}\n",
            "Actual: 2. Predicted: {2: '100%'}\n",
            "Actual: 2. Predicted: {2: '100%'}\n",
            "Actual: 4. Predicted: {4: '100%'}\n",
            "Actual: 2. Predicted: {2: '100%'}\n",
            "Actual: 4. Predicted: {4: '100%'}\n",
            "Actual: 4. Predicted: {4: '100%'}\n",
            "Actual: 4. Predicted: {4: '100%'}\n",
            "Actual: 4. Predicted: {4: '100%'}\n",
            "Actual: 4. Predicted: {4: '100%'}\n",
            "Actual: 4. Predicted: {4: '100%'}\n",
            "Actual: 2. Predicted: {2: '100%'}\n",
            "Actual: 4. Predicted: {4: '100%'}\n",
            "Actual: 2. Predicted: {2: '100%'}\n",
            "Actual: 2. Predicted: {2: '100%'}\n",
            "Actual: 4. Predicted: {4: '100%'}\n",
            "Actual: 4. Predicted: {4: '100%'}\n",
            "Actual: 4. Predicted: {4: '100%'}\n",
            "Actual: 4. Predicted: {4: '100%'}\n",
            "Actual: 4. Predicted: {4: '100%'}\n",
            "Actual: 4. Predicted: {4: '100%'}\n",
            "Actual: 4. Predicted: {4: '100%'}\n",
            "Actual: 4. Predicted: {4: '100%'}\n",
            "Actual: 4. Predicted: {4: '100%'}\n",
            "Actual: 4. Predicted: {4: '100%'}\n",
            "Actual: 4. Predicted: {4: '100%'}\n",
            "Actual: 4. Predicted: {4: '100%'}\n",
            "Actual: 2. Predicted: {2: '100%'}\n",
            "Actual: 4. Predicted: {4: '100%'}\n",
            "Actual: 4. Predicted: {4: '100%'}\n",
            "Actual: 2. Predicted: {2: '100%'}\n",
            "Actual: 4. Predicted: {4: '100%'}\n",
            "Actual: 2. Predicted: {2: '100%'}\n",
            "Actual: 4. Predicted: {4: '100%'}\n",
            "Actual: 4. Predicted: {4: '100%'}\n",
            "Actual: 2. Predicted: {2: '100%'}\n",
            "Actual: 2. Predicted: {2: '100%'}\n",
            "Actual: 4. Predicted: {4: '100%'}\n",
            "Actual: 2. Predicted: {2: '100%'}\n",
            "Actual: 4. Predicted: {4: '100%'}\n",
            "Actual: 4. Predicted: {4: '100%'}\n",
            "Actual: 2. Predicted: {2: '100%'}\n",
            "Actual: 2. Predicted: {2: '100%'}\n",
            "Actual: 2. Predicted: {2: '100%'}\n",
            "Actual: 2. Predicted: {2: '100%'}\n",
            "Actual: 2. Predicted: {2: '100%'}\n",
            "Actual: 2. Predicted: {2: '100%'}\n",
            "Actual: 2. Predicted: {2: '100%'}\n",
            "Actual: 2. Predicted: {2: '100%'}\n",
            "Actual: 2. Predicted: {2: '100%'}\n",
            "Actual: 4. Predicted: {4: '100%'}\n",
            "Actual: 4. Predicted: {4: '100%'}\n",
            "Actual: 4. Predicted: {4: '100%'}\n",
            "Actual: 4. Predicted: {4: '100%'}\n",
            "Actual: 2. Predicted: {2: '100%'}\n",
            "Actual: 2. Predicted: {2: '100%'}\n",
            "Actual: 2. Predicted: {2: '100%'}\n",
            "Actual: 2. Predicted: {2: '100%'}\n",
            "Actual: 2. Predicted: {2: '100%'}\n",
            "Actual: 2. Predicted: {2: '100%'}\n",
            "Actual: 2. Predicted: {2: '100%'}\n",
            "Actual: 2. Predicted: {2: '100%'}\n",
            "Actual: 2. Predicted: {2: '100%'}\n",
            "Actual: 2. Predicted: {2: '100%'}\n",
            "Actual: 4. Predicted: {4: '100%'}\n",
            "Actual: 4. Predicted: {4: '100%'}\n",
            "Actual: 4. Predicted: {4: '100%'}\n",
            "Actual: 4. Predicted: {4: '100%'}\n",
            "Actual: 2. Predicted: {2: '100%'}\n",
            "Actual: 4. Predicted: {4: '100%'}\n",
            "Actual: 4. Predicted: {4: '100%'}\n",
            "Actual: 4. Predicted: {4: '100%'}\n",
            "Actual: 4. Predicted: {4: '100%'}\n",
            "Actual: 4. Predicted: {4: '100%'}\n",
            "Actual: 2. Predicted: {2: '100%'}\n",
            "Actual: 4. Predicted: {4: '100%'}\n",
            "Actual: 2. Predicted: {2: '100%'}\n",
            "Actual: 4. Predicted: {4: '100%'}\n",
            "Actual: 4. Predicted: {4: '100%'}\n",
            "Actual: 4. Predicted: {4: '100%'}\n",
            "Actual: 2. Predicted: {2: '100%'}\n",
            "Actual: 2. Predicted: {2: '100%'}\n",
            "Actual: 2. Predicted: {2: '100%'}\n",
            "Actual: 4. Predicted: {4: '100%'}\n",
            "Actual: 2. Predicted: {2: '100%'}\n",
            "Actual: 2. Predicted: {2: '100%'}\n",
            "Actual: 2. Predicted: {2: '100%'}\n",
            "Actual: 2. Predicted: {2: '100%'}\n",
            "Actual: 4. Predicted: {4: '100%'}\n",
            "Actual: 4. Predicted: {4: '100%'}\n",
            "Actual: 4. Predicted: {4: '100%'}\n",
            "Actual: 2. Predicted: {2: '100%'}\n",
            "Actual: 4. Predicted: {4: '100%'}\n",
            "Actual: 2. Predicted: {2: '100%'}\n",
            "Actual: 4. Predicted: {4: '100%'}\n",
            "Actual: 2. Predicted: {2: '100%'}\n",
            "Actual: 2. Predicted: {2: '100%'}\n",
            "Actual: 2. Predicted: {2: '100%'}\n",
            "Actual: 4. Predicted: {4: '100%'}\n",
            "Actual: 2. Predicted: {2: '100%'}\n",
            "Actual: 2. Predicted: {2: '100%'}\n",
            "Actual: 2. Predicted: {2: '100%'}\n",
            "Actual: 2. Predicted: {2: '100%'}\n",
            "Actual: 2. Predicted: {2: '100%'}\n",
            "Actual: 2. Predicted: {2: '100%'}\n",
            "Actual: 2. Predicted: {2: '100%'}\n",
            "Actual: 2. Predicted: {2: '100%'}\n",
            "Actual: 4. Predicted: {4: '100%'}\n",
            "Actual: 2. Predicted: {2: '100%'}\n",
            "Actual: 2. Predicted: {2: '100%'}\n",
            "Actual: 4. Predicted: {4: '100%'}\n",
            "Actual: 2. Predicted: {2: '100%'}\n",
            "Actual: 2. Predicted: {2: '100%'}\n",
            "Actual: 4. Predicted: {4: '100%'}\n",
            "Actual: 2. Predicted: {2: '100%'}\n",
            "Actual: 4. Predicted: {4: '100%'}\n",
            "Actual: 4. Predicted: {4: '100%'}\n",
            "Actual: 2. Predicted: {2: '100%'}\n",
            "Actual: 2. Predicted: {2: '100%'}\n",
            "Actual: 4. Predicted: {4: '100%'}\n",
            "Actual: 2. Predicted: {2: '100%'}\n",
            "Actual: 2. Predicted: {2: '100%'}\n",
            "Actual: 4. Predicted: {4: '100%'}\n",
            "Actual: 4. Predicted: {4: '100%'}\n",
            "Actual: 2. Predicted: {2: '100%'}\n",
            "Actual: 2. Predicted: {2: '100%'}\n",
            "Actual: 2. Predicted: {2: '100%'}\n",
            "Actual: 2. Predicted: {2: '100%'}\n",
            "Actual: 4. Predicted: {4: '100%'}\n",
            "Actual: 4. Predicted: {4: '100%'}\n",
            "Actual: 2. Predicted: {2: '100%'}\n",
            "Actual: 2. Predicted: {2: '100%'}\n",
            "Actual: 2. Predicted: {2: '100%'}\n",
            "Actual: 2. Predicted: {2: '100%'}\n",
            "Actual: 2. Predicted: {2: '100%'}\n",
            "Actual: 4. Predicted: {4: '100%'}\n",
            "Actual: 4. Predicted: {4: '100%'}\n",
            "Actual: 4. Predicted: {4: '100%'}\n",
            "Actual: 2. Predicted: {2: '100%'}\n",
            "Actual: 4. Predicted: {4: '100%'}\n",
            "Actual: 2. Predicted: {2: '100%'}\n",
            "Actual: 4. Predicted: {4: '100%'}\n",
            "Actual: 2. Predicted: {2: '100%'}\n",
            "Actual: 2. Predicted: {2: '100%'}\n",
            "Actual: 2. Predicted: {2: '100%'}\n",
            "Actual: 4. Predicted: {4: '100%'}\n",
            "Actual: 4. Predicted: {4: '100%'}\n",
            "Actual: 2. Predicted: {2: '100%'}\n",
            "Actual: 4. Predicted: {4: '100%'}\n",
            "Actual: 4. Predicted: {4: '100%'}\n",
            "Actual: 4. Predicted: {4: '100%'}\n",
            "Actual: 2. Predicted: {2: '100%'}\n",
            "Actual: 4. Predicted: {4: '100%'}\n",
            "Actual: 4. Predicted: {4: '100%'}\n",
            "Actual: 2. Predicted: {2: '100%'}\n",
            "Actual: 2. Predicted: {2: '100%'}\n",
            "Actual: 2. Predicted: {2: '100%'}\n",
            "Actual: 2. Predicted: {2: '100%'}\n",
            "Actual: 2. Predicted: {2: '100%'}\n",
            "Actual: 2. Predicted: {2: '100%'}\n",
            "Actual: 2. Predicted: {2: '100%'}\n",
            "Actual: 2. Predicted: {2: '100%'}\n",
            "Actual: 4. Predicted: {4: '100%'}\n",
            "Actual: 4. Predicted: {4: '100%'}\n",
            "Actual: 2. Predicted: {2: '100%'}\n",
            "Actual: 2. Predicted: {2: '100%'}\n",
            "Actual: 2. Predicted: {2: '100%'}\n",
            "Actual: 4. Predicted: {4: '100%'}\n"
          ],
          "name": "stdout"
        }
      ]
    }
  ]
}