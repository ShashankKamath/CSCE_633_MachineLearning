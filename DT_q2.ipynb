{
  "nbformat": 4,
  "nbformat_minor": 0,
  "metadata": {
    "colab": {
      "name": "DT_q2.ipynb",
      "version": "0.3.2",
      "provenance": [],
      "collapsed_sections": [],
      "include_colab_link": true
    },
    "kernelspec": {
      "name": "python3",
      "display_name": "Python 3"
    },
    "accelerator": "GPU"
  },
  "cells": [
    {
      "cell_type": "markdown",
      "metadata": {
        "id": "view-in-github",
        "colab_type": "text"
      },
      "source": [
        "<a href=\"https://colab.research.google.com/github/ShashankKamath/DecisionTree_ML/blob/master/DT_q2.ipynb\" target=\"_parent\"><img src=\"https://colab.research.google.com/assets/colab-badge.svg\" alt=\"Open In Colab\"/></a>"
      ]
    },
    {
      "metadata": {
        "id": "hJQB_6vI2rRk",
        "colab_type": "code",
        "outputId": "fbe60db8-254c-4886-dd29-fb91b4b10b94",
        "colab": {
          "resources": {
            "http://localhost:8080/nbextensions/google.colab/files.js": {
              "data": "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",
              "ok": true,
              "headers": [
                [
                  "content-type",
                  "application/javascript"
                ]
              ],
              "status": 200,
              "status_text": ""
            }
          },
          "base_uri": "https://localhost:8080/",
          "height": 74
        }
      },
      "cell_type": "code",
      "source": [
        "from google.colab import files\n",
        "uploaded = files.upload()\n"
      ],
      "execution_count": 51,
      "outputs": [
        {
          "output_type": "display_data",
          "data": {
            "text/html": [
              "\n",
              "     <input type=\"file\" id=\"files-92c7a3bf-63bc-4e1b-b4c7-0efd17f4f4fd\" name=\"files[]\" multiple disabled />\n",
              "     <output id=\"result-92c7a3bf-63bc-4e1b-b4c7-0efd17f4f4fd\">\n",
              "      Upload widget is only available when the cell has been executed in the\n",
              "      current browser session. Please rerun this cell to enable.\n",
              "      </output>\n",
              "      <script src=\"/nbextensions/google.colab/files.js\"></script> "
            ],
            "text/plain": [
              "<IPython.core.display.HTML object>"
            ]
          },
          "metadata": {
            "tags": []
          }
        },
        {
          "output_type": "stream",
          "text": [
            "Saving hw2_question1.csv to hw2_question1 (2).csv\n"
          ],
          "name": "stdout"
        }
      ]
    },
    {
      "metadata": {
        "id": "-hDwJa-KzKt2",
        "colab_type": "code",
        "colab": {}
      },
      "cell_type": "code",
      "source": [
        "import pandas as pd\n",
        "import numpy as np\n",
        "data = pd.read_csv(\"hw2_question1.csv\")\n",
        "header=[\"Thickness\", \"Cellsize\", \"Cellshape\", \"Adhesion\",\"Ecellsize\",\"Nuclei\",\"Chromatin\",\"Nucleoli\",\"Mitosis\",\"Class\"]\n",
        "data.columns=header"
      ],
      "execution_count": 0,
      "outputs": []
    },
    {
      "metadata": {
        "id": "ayli7_LVL9ew",
        "colab_type": "text"
      },
      "cell_type": "markdown",
      "source": [
        "Splitting the data into Train and Test\n"
      ]
    },
    {
      "metadata": {
        "id": "NijzHWjdMDsv",
        "colab_type": "code",
        "colab": {}
      },
      "cell_type": "code",
      "source": [
        "data = data.sample(frac=1).reset_index(drop=True)\n",
        "train_data=pd.DataFrame()\n",
        "test_data=pd.DataFrame()\n",
        "class_2_count=[295,148]\n",
        "class_4_count=[159,80]\n",
        "for i in range(0,data.shape[0]):\n",
        "    if(data.loc[i,'Class']==2 and class_2_count[0]<=295 and class_2_count[0]>0):\n",
        "        train_data=train_data.append(data.iloc[i])\n",
        "        class_2_count[0]-=1\n",
        "    if(data.loc[i,'Class']==4 and class_4_count[0]<=159 and class_4_count[0]>0):\n",
        "        train_data=train_data.append(data.iloc[i])\n",
        "        class_4_count[0]-=1\n",
        "    if(data.loc[i,'Class']==2 and class_2_count[1]<=148 and class_2_count[1]>0):\n",
        "        test_data=test_data.append(data.iloc[i])\n",
        "        class_2_count[1]-=1\n",
        "    if(data.loc[i,'Class']==4 and class_4_count[1]<=80 and class_4_count[1]>0):\n",
        "        test_data=test_data.append(data.iloc[i])\n",
        "        class_4_count[1]-=1\n",
        "train_data=train_data[header]\n",
        "test_data=test_data[header]\n",
        "\n",
        "train_set=train_data.values.tolist()\n",
        "test_set=test_data.values.tolist()"
      ],
      "execution_count": 0,
      "outputs": []
    },
    {
      "metadata": {
        "id": "uSillIK0_maA",
        "colab_type": "code",
        "colab": {
          "base_uri": "https://localhost:8080/",
          "height": 195
        },
        "outputId": "59b0d071-d48c-4db1-a1a0-381a8d17beca"
      },
      "cell_type": "code",
      "source": [
        "data.head()"
      ],
      "execution_count": 54,
      "outputs": [
        {
          "output_type": "execute_result",
          "data": {
            "text/html": [
              "<div>\n",
              "<style scoped>\n",
              "    .dataframe tbody tr th:only-of-type {\n",
              "        vertical-align: middle;\n",
              "    }\n",
              "\n",
              "    .dataframe tbody tr th {\n",
              "        vertical-align: top;\n",
              "    }\n",
              "\n",
              "    .dataframe thead th {\n",
              "        text-align: right;\n",
              "    }\n",
              "</style>\n",
              "<table border=\"1\" class=\"dataframe\">\n",
              "  <thead>\n",
              "    <tr style=\"text-align: right;\">\n",
              "      <th></th>\n",
              "      <th>Thickness</th>\n",
              "      <th>Cellsize</th>\n",
              "      <th>Cellshape</th>\n",
              "      <th>Adhesion</th>\n",
              "      <th>Ecellsize</th>\n",
              "      <th>Nuclei</th>\n",
              "      <th>Chromatin</th>\n",
              "      <th>Nucleoli</th>\n",
              "      <th>Mitosis</th>\n",
              "      <th>Class</th>\n",
              "    </tr>\n",
              "  </thead>\n",
              "  <tbody>\n",
              "    <tr>\n",
              "      <th>0</th>\n",
              "      <td>5</td>\n",
              "      <td>10</td>\n",
              "      <td>8</td>\n",
              "      <td>10</td>\n",
              "      <td>8</td>\n",
              "      <td>10</td>\n",
              "      <td>3</td>\n",
              "      <td>6</td>\n",
              "      <td>3</td>\n",
              "      <td>4</td>\n",
              "    </tr>\n",
              "    <tr>\n",
              "      <th>1</th>\n",
              "      <td>3</td>\n",
              "      <td>2</td>\n",
              "      <td>2</td>\n",
              "      <td>1</td>\n",
              "      <td>2</td>\n",
              "      <td>1</td>\n",
              "      <td>2</td>\n",
              "      <td>3</td>\n",
              "      <td>1</td>\n",
              "      <td>2</td>\n",
              "    </tr>\n",
              "    <tr>\n",
              "      <th>2</th>\n",
              "      <td>7</td>\n",
              "      <td>4</td>\n",
              "      <td>4</td>\n",
              "      <td>3</td>\n",
              "      <td>4</td>\n",
              "      <td>10</td>\n",
              "      <td>6</td>\n",
              "      <td>9</td>\n",
              "      <td>1</td>\n",
              "      <td>4</td>\n",
              "    </tr>\n",
              "    <tr>\n",
              "      <th>3</th>\n",
              "      <td>8</td>\n",
              "      <td>7</td>\n",
              "      <td>8</td>\n",
              "      <td>5</td>\n",
              "      <td>5</td>\n",
              "      <td>10</td>\n",
              "      <td>9</td>\n",
              "      <td>10</td>\n",
              "      <td>1</td>\n",
              "      <td>4</td>\n",
              "    </tr>\n",
              "    <tr>\n",
              "      <th>4</th>\n",
              "      <td>4</td>\n",
              "      <td>1</td>\n",
              "      <td>1</td>\n",
              "      <td>1</td>\n",
              "      <td>2</td>\n",
              "      <td>1</td>\n",
              "      <td>2</td>\n",
              "      <td>1</td>\n",
              "      <td>1</td>\n",
              "      <td>2</td>\n",
              "    </tr>\n",
              "  </tbody>\n",
              "</table>\n",
              "</div>"
            ],
            "text/plain": [
              "   Thickness  Cellsize  Cellshape  Adhesion  Ecellsize  Nuclei  Chromatin  \\\n",
              "0          5        10          8        10          8      10          3   \n",
              "1          3         2          2         1          2       1          2   \n",
              "2          7         4          4         3          4      10          6   \n",
              "3          8         7          8         5          5      10          9   \n",
              "4          4         1          1         1          2       1          2   \n",
              "\n",
              "   Nucleoli  Mitosis  Class  \n",
              "0         6        3      4  \n",
              "1         3        1      2  \n",
              "2         9        1      4  \n",
              "3        10        1      4  \n",
              "4         1        1      2  "
            ]
          },
          "metadata": {
            "tags": []
          },
          "execution_count": 54
        }
      ]
    },
    {
      "metadata": {
        "id": "KlEVPw3t_qbo",
        "colab_type": "code",
        "colab": {
          "base_uri": "https://localhost:8080/",
          "height": 34
        },
        "outputId": "77d25164-d71f-4156-cbce-c59ffa66f3eb"
      },
      "cell_type": "code",
      "source": [
        "def unique_vals(rows, col):\n",
        "    \"\"\"Find the unique values for a column in a dataset.\"\"\"\n",
        "    return set([row[col] for row in rows])\n",
        "unique_vals(train_set, 1)"
      ],
      "execution_count": 55,
      "outputs": [
        {
          "output_type": "execute_result",
          "data": {
            "text/plain": [
              "{1.0, 2.0, 3.0, 4.0, 5.0, 6.0, 7.0, 8.0, 9.0, 10.0}"
            ]
          },
          "metadata": {
            "tags": []
          },
          "execution_count": 55
        }
      ]
    },
    {
      "metadata": {
        "id": "kgAaOd0xAEJt",
        "colab_type": "code",
        "colab": {
          "base_uri": "https://localhost:8080/",
          "height": 34
        },
        "outputId": "ba82a7a2-1a13-460d-9a4b-82835cdf6663"
      },
      "cell_type": "code",
      "source": [
        "def class_counts(rows):\n",
        "    \"\"\"Counts the number of each type of example in a dataset.\"\"\"\n",
        "    counts = {}  # a dictionary of label -> count.\n",
        "    for row in rows:\n",
        "        # in our dataset format, the label is always the last column\n",
        "        label = row[-1]\n",
        "        if label not in counts:\n",
        "            counts[label] = 0\n",
        "        counts[label] += 1\n",
        "    return counts\n",
        "  \n",
        "class_counts(train_set)"
      ],
      "execution_count": 56,
      "outputs": [
        {
          "output_type": "execute_result",
          "data": {
            "text/plain": [
              "{2.0: 295, 4.0: 159}"
            ]
          },
          "metadata": {
            "tags": []
          },
          "execution_count": 56
        }
      ]
    },
    {
      "metadata": {
        "id": "iiNMEXJdB-9j",
        "colab_type": "code",
        "colab": {
          "base_uri": "https://localhost:8080/",
          "height": 34
        },
        "outputId": "979b4357-6fc0-494b-ca08-2afc544ba8e5"
      },
      "cell_type": "code",
      "source": [
        "def is_numeric(value):\n",
        "    \"\"\"Test if a value is numeric.\"\"\"\n",
        "    return isinstance(value, int) or isinstance(value, float)\n",
        "is_numeric(7)"
      ],
      "execution_count": 57,
      "outputs": [
        {
          "output_type": "execute_result",
          "data": {
            "text/plain": [
              "True"
            ]
          },
          "metadata": {
            "tags": []
          },
          "execution_count": 57
        }
      ]
    },
    {
      "metadata": {
        "id": "I1Jo7aMYCMut",
        "colab_type": "code",
        "colab": {}
      },
      "cell_type": "code",
      "source": [
        "class Question:\n",
        "    \"\"\"A Question is used to partition a dataset.\n",
        "\n",
        "    This class just records a 'column number' (e.g., 0 for Color) and a\n",
        "    'column value' (e.g., Green). The 'match' method is used to compare\n",
        "    the feature value in an example to the feature value stored in the\n",
        "    question. See the demo below.\n",
        "    \"\"\"\n",
        "\n",
        "    def __init__(self, column, value):\n",
        "        self.column = column\n",
        "        self.value = value\n",
        "\n",
        "    def match(self, example):\n",
        "        # Compare the feature value in an example to the\n",
        "        # feature value in this question.\n",
        "        val = example[self.column]\n",
        "        if is_numeric(val):\n",
        "            return val >= self.value\n",
        "        else:\n",
        "            return val == self.value\n",
        "\n",
        "    def __repr__(self):\n",
        "        # This is just a helper method to print\n",
        "        # the question in a readable format.\n",
        "        condition = \"==\"\n",
        "        if is_numeric(self.value):\n",
        "            condition = \">=\"\n",
        "        return \"Is %s %s %s?\" % (header[self.column], condition, str(self.value))\n"
      ],
      "execution_count": 0,
      "outputs": []
    },
    {
      "metadata": {
        "id": "ERphJAFXCmxE",
        "colab_type": "code",
        "colab": {
          "base_uri": "https://localhost:8080/",
          "height": 34
        },
        "outputId": "3ac282da-bd7a-4508-ed34-da14bf4df74a"
      },
      "cell_type": "code",
      "source": [
        "q = Question(6,7)\n",
        "example = train_set[0]\n",
        "q.match(example)\n"
      ],
      "execution_count": 59,
      "outputs": [
        {
          "output_type": "execute_result",
          "data": {
            "text/plain": [
              "False"
            ]
          },
          "metadata": {
            "tags": []
          },
          "execution_count": 59
        }
      ]
    },
    {
      "metadata": {
        "id": "ervjNTmtENF5",
        "colab_type": "code",
        "colab": {}
      },
      "cell_type": "code",
      "source": [
        "def partition(rows, question):\n",
        "    \"\"\"Partitions a dataset.\n",
        "\n",
        "    For each row in the dataset, check if it matches the question. If\n",
        "    so, add it to 'true rows', otherwise, add it to 'false rows'.\n",
        "    \"\"\"\n",
        "    true_rows, false_rows = [], []\n",
        "    for row in rows:\n",
        "        if question.match(row):\n",
        "            true_rows.append(row)\n",
        "        else:\n",
        "            false_rows.append(row)\n",
        "    return true_rows, false_rows"
      ],
      "execution_count": 0,
      "outputs": []
    },
    {
      "metadata": {
        "id": "F1chNkv9ESqi",
        "colab_type": "code",
        "colab": {
          "base_uri": "https://localhost:8080/",
          "height": 6283
        },
        "outputId": "7c6fc8b7-99c1-48bd-c7b6-eecd39195de3"
      },
      "cell_type": "code",
      "source": [
        "true_rows, false_rows = partition(train_set, Question(0, 2))\n",
        "true_rows"
      ],
      "execution_count": 86,
      "outputs": [
        {
          "output_type": "execute_result",
          "data": {
            "text/plain": [
              "[[5.0, 10.0, 8.0, 10.0, 8.0, 10.0, 3.0, 6.0, 3.0, 4.0],\n",
              " [3.0, 2.0, 2.0, 1.0, 2.0, 1.0, 2.0, 3.0, 1.0, 2.0],\n",
              " [7.0, 4.0, 4.0, 3.0, 4.0, 10.0, 6.0, 9.0, 1.0, 4.0],\n",
              " [8.0, 7.0, 8.0, 5.0, 5.0, 10.0, 9.0, 10.0, 1.0, 4.0],\n",
              " [4.0, 1.0, 1.0, 1.0, 2.0, 1.0, 2.0, 1.0, 1.0, 2.0],\n",
              " [5.0, 1.0, 1.0, 2.0, 2.0, 2.0, 3.0, 1.0, 1.0, 2.0],\n",
              " [10.0, 8.0, 10.0, 1.0, 3.0, 10.0, 5.0, 1.0, 1.0, 4.0],\n",
              " [3.0, 1.0, 1.0, 1.0, 2.0, 1.0, 3.0, 2.0, 1.0, 2.0],\n",
              " [5.0, 1.0, 2.0, 1.0, 2.0, 1.0, 1.0, 1.0, 1.0, 2.0],\n",
              " [5.0, 10.0, 6.0, 1.0, 10.0, 4.0, 4.0, 10.0, 10.0, 4.0],\n",
              " [3.0, 1.0, 1.0, 1.0, 2.0, 1.0, 1.0, 1.0, 1.0, 2.0],\n",
              " [3.0, 1.0, 1.0, 1.0, 2.0, 1.0, 2.0, 1.0, 1.0, 2.0],\n",
              " [3.0, 1.0, 1.0, 3.0, 1.0, 1.0, 3.0, 1.0, 1.0, 2.0],\n",
              " [8.0, 10.0, 5.0, 3.0, 8.0, 4.0, 4.0, 10.0, 3.0, 4.0],\n",
              " [8.0, 5.0, 6.0, 2.0, 3.0, 10.0, 6.0, 6.0, 1.0, 4.0],\n",
              " [8.0, 7.0, 8.0, 7.0, 5.0, 5.0, 5.0, 10.0, 2.0, 4.0],\n",
              " [8.0, 3.0, 5.0, 4.0, 5.0, 10.0, 1.0, 6.0, 2.0, 4.0],\n",
              " [2.0, 1.0, 1.0, 1.0, 2.0, 1.0, 2.0, 1.0, 1.0, 2.0],\n",
              " [5.0, 1.0, 3.0, 1.0, 2.0, 1.0, 2.0, 1.0, 1.0, 2.0],\n",
              " [4.0, 1.0, 1.0, 1.0, 2.0, 2.0, 3.0, 2.0, 1.0, 2.0],\n",
              " [7.0, 8.0, 3.0, 7.0, 4.0, 5.0, 7.0, 8.0, 2.0, 4.0],\n",
              " [2.0, 1.0, 1.0, 1.0, 2.0, 1.0, 3.0, 1.0, 1.0, 2.0],\n",
              " [4.0, 1.0, 1.0, 3.0, 2.0, 1.0, 3.0, 1.0, 1.0, 2.0],\n",
              " [4.0, 1.0, 1.0, 1.0, 2.0, 1.0, 2.0, 1.0, 1.0, 2.0],\n",
              " [3.0, 1.0, 1.0, 3.0, 2.0, 1.0, 2.0, 1.0, 1.0, 2.0],\n",
              " [7.0, 5.0, 6.0, 10.0, 5.0, 10.0, 7.0, 9.0, 4.0, 4.0],\n",
              " [8.0, 10.0, 10.0, 8.0, 6.0, 9.0, 3.0, 10.0, 10.0, 4.0],\n",
              " [5.0, 10.0, 10.0, 10.0, 10.0, 2.0, 10.0, 10.0, 10.0, 4.0],\n",
              " [4.0, 1.0, 1.0, 1.0, 2.0, 1.0, 3.0, 1.0, 1.0, 2.0],\n",
              " [3.0, 1.0, 2.0, 1.0, 2.0, 1.0, 3.0, 1.0, 1.0, 2.0],\n",
              " [8.0, 7.0, 8.0, 5.0, 10.0, 10.0, 7.0, 2.0, 1.0, 4.0],\n",
              " [5.0, 3.0, 3.0, 4.0, 2.0, 4.0, 3.0, 4.0, 1.0, 4.0],\n",
              " [4.0, 1.0, 2.0, 1.0, 2.0, 1.0, 3.0, 1.0, 1.0, 2.0],\n",
              " [4.0, 1.0, 1.0, 1.0, 2.0, 1.0, 1.0, 1.0, 1.0, 2.0],\n",
              " [5.0, 1.0, 1.0, 1.0, 2.0, 1.0, 2.0, 1.0, 1.0, 2.0],\n",
              " [5.0, 3.0, 2.0, 1.0, 3.0, 1.0, 1.0, 1.0, 1.0, 2.0],\n",
              " [3.0, 5.0, 7.0, 8.0, 8.0, 9.0, 7.0, 10.0, 7.0, 4.0],\n",
              " [10.0, 9.0, 7.0, 3.0, 4.0, 2.0, 7.0, 7.0, 1.0, 4.0],\n",
              " [3.0, 1.0, 1.0, 1.0, 2.0, 1.0, 2.0, 1.0, 1.0, 2.0],\n",
              " [3.0, 2.0, 2.0, 3.0, 2.0, 1.0, 1.0, 1.0, 1.0, 2.0],\n",
              " [9.0, 10.0, 10.0, 10.0, 10.0, 10.0, 10.0, 10.0, 1.0, 4.0],\n",
              " [8.0, 4.0, 7.0, 1.0, 3.0, 10.0, 3.0, 9.0, 2.0, 4.0],\n",
              " [3.0, 1.0, 1.0, 1.0, 2.0, 1.0, 1.0, 1.0, 1.0, 2.0],\n",
              " [7.0, 5.0, 6.0, 3.0, 3.0, 8.0, 7.0, 4.0, 1.0, 4.0],\n",
              " [7.0, 4.0, 5.0, 10.0, 2.0, 10.0, 3.0, 8.0, 2.0, 4.0],\n",
              " [2.0, 1.0, 1.0, 1.0, 2.0, 1.0, 1.0, 1.0, 1.0, 2.0],\n",
              " [5.0, 8.0, 8.0, 8.0, 5.0, 10.0, 7.0, 8.0, 1.0, 4.0],\n",
              " [5.0, 1.0, 1.0, 1.0, 2.0, 1.0, 1.0, 1.0, 1.0, 2.0],\n",
              " [10.0, 10.0, 10.0, 1.0, 6.0, 1.0, 2.0, 8.0, 1.0, 4.0],\n",
              " [3.0, 1.0, 1.0, 1.0, 2.0, 1.0, 2.0, 1.0, 1.0, 2.0],\n",
              " [4.0, 1.0, 1.0, 1.0, 2.0, 1.0, 1.0, 1.0, 1.0, 2.0],\n",
              " [8.0, 7.0, 5.0, 10.0, 7.0, 9.0, 5.0, 5.0, 4.0, 4.0],\n",
              " [2.0, 1.0, 1.0, 1.0, 2.0, 1.0, 3.0, 1.0, 1.0, 2.0],\n",
              " [4.0, 2.0, 4.0, 3.0, 2.0, 2.0, 2.0, 1.0, 1.0, 2.0],\n",
              " [3.0, 1.0, 1.0, 1.0, 2.0, 1.0, 1.0, 1.0, 1.0, 2.0],\n",
              " [5.0, 1.0, 1.0, 1.0, 1.0, 1.0, 3.0, 1.0, 1.0, 2.0],\n",
              " [3.0, 1.0, 1.0, 1.0, 2.0, 1.0, 1.0, 1.0, 1.0, 2.0],\n",
              " [3.0, 1.0, 2.0, 1.0, 2.0, 1.0, 2.0, 1.0, 1.0, 2.0],\n",
              " [4.0, 2.0, 2.0, 1.0, 2.0, 1.0, 2.0, 1.0, 1.0, 2.0],\n",
              " [3.0, 1.0, 1.0, 1.0, 3.0, 2.0, 1.0, 1.0, 1.0, 2.0],\n",
              " [4.0, 4.0, 4.0, 2.0, 2.0, 3.0, 2.0, 1.0, 1.0, 2.0],\n",
              " [4.0, 3.0, 1.0, 1.0, 2.0, 1.0, 4.0, 8.0, 1.0, 2.0],\n",
              " [5.0, 2.0, 2.0, 2.0, 2.0, 1.0, 2.0, 2.0, 1.0, 2.0],\n",
              " [5.0, 6.0, 6.0, 8.0, 6.0, 10.0, 4.0, 10.0, 4.0, 4.0],\n",
              " [3.0, 2.0, 2.0, 1.0, 4.0, 3.0, 2.0, 1.0, 1.0, 2.0],\n",
              " [5.0, 3.0, 6.0, 1.0, 2.0, 1.0, 1.0, 1.0, 1.0, 2.0],\n",
              " [4.0, 1.0, 1.0, 1.0, 3.0, 1.0, 1.0, 1.0, 1.0, 2.0],\n",
              " [4.0, 1.0, 1.0, 1.0, 2.0, 1.0, 2.0, 1.0, 1.0, 2.0],\n",
              " [4.0, 1.0, 1.0, 1.0, 2.0, 1.0, 2.0, 1.0, 1.0, 2.0],\n",
              " [4.0, 1.0, 1.0, 1.0, 2.0, 1.0, 3.0, 1.0, 1.0, 2.0],\n",
              " [4.0, 8.0, 7.0, 10.0, 4.0, 10.0, 7.0, 5.0, 1.0, 4.0],\n",
              " [5.0, 1.0, 1.0, 3.0, 2.0, 1.0, 1.0, 1.0, 1.0, 2.0],\n",
              " [4.0, 1.0, 1.0, 1.0, 2.0, 1.0, 2.0, 1.0, 1.0, 2.0],\n",
              " [6.0, 1.0, 3.0, 2.0, 2.0, 1.0, 1.0, 1.0, 1.0, 2.0],\n",
              " [3.0, 1.0, 3.0, 1.0, 3.0, 4.0, 1.0, 1.0, 1.0, 2.0],\n",
              " [4.0, 1.0, 1.0, 1.0, 2.0, 1.0, 1.0, 2.0, 1.0, 2.0],\n",
              " [9.0, 4.0, 5.0, 10.0, 6.0, 10.0, 4.0, 8.0, 1.0, 4.0],\n",
              " [6.0, 10.0, 10.0, 10.0, 8.0, 10.0, 10.0, 10.0, 7.0, 4.0],\n",
              " [5.0, 5.0, 5.0, 2.0, 5.0, 10.0, 4.0, 3.0, 1.0, 4.0],\n",
              " [4.0, 1.0, 1.0, 1.0, 2.0, 1.0, 3.0, 1.0, 1.0, 2.0],\n",
              " [5.0, 7.0, 9.0, 8.0, 6.0, 10.0, 8.0, 10.0, 1.0, 4.0],\n",
              " [4.0, 7.0, 8.0, 3.0, 4.0, 10.0, 9.0, 1.0, 1.0, 4.0],\n",
              " [2.0, 1.0, 1.0, 1.0, 2.0, 1.0, 3.0, 1.0, 1.0, 2.0],\n",
              " [8.0, 5.0, 5.0, 5.0, 2.0, 10.0, 4.0, 3.0, 1.0, 4.0],\n",
              " [3.0, 1.0, 1.0, 2.0, 2.0, 1.0, 1.0, 1.0, 1.0, 2.0],\n",
              " [5.0, 1.0, 1.0, 1.0, 2.0, 1.0, 1.0, 1.0, 1.0, 2.0],\n",
              " [2.0, 1.0, 3.0, 2.0, 2.0, 1.0, 2.0, 1.0, 1.0, 2.0],\n",
              " [9.0, 10.0, 10.0, 1.0, 10.0, 8.0, 3.0, 3.0, 1.0, 4.0],\n",
              " [8.0, 9.0, 9.0, 5.0, 3.0, 5.0, 7.0, 7.0, 1.0, 4.0],\n",
              " [5.0, 1.0, 1.0, 1.0, 2.0, 1.0, 2.0, 2.0, 1.0, 2.0],\n",
              " [3.0, 1.0, 1.0, 1.0, 2.0, 1.0, 2.0, 1.0, 1.0, 2.0],\n",
              " [3.0, 1.0, 1.0, 1.0, 2.0, 1.0, 2.0, 1.0, 1.0, 2.0],\n",
              " [8.0, 3.0, 8.0, 3.0, 4.0, 9.0, 8.0, 9.0, 8.0, 4.0],\n",
              " [2.0, 1.0, 1.0, 1.0, 2.0, 1.0, 3.0, 1.0, 1.0, 2.0],\n",
              " [3.0, 2.0, 1.0, 2.0, 2.0, 1.0, 3.0, 1.0, 1.0, 2.0],\n",
              " [5.0, 1.0, 1.0, 1.0, 2.0, 1.0, 2.0, 1.0, 1.0, 2.0],\n",
              " [10.0, 3.0, 5.0, 1.0, 10.0, 5.0, 3.0, 10.0, 2.0, 4.0],\n",
              " [2.0, 1.0, 2.0, 1.0, 2.0, 1.0, 3.0, 1.0, 1.0, 2.0],\n",
              " [5.0, 10.0, 10.0, 10.0, 4.0, 10.0, 5.0, 6.0, 3.0, 4.0],\n",
              " [3.0, 6.0, 4.0, 10.0, 3.0, 3.0, 3.0, 4.0, 1.0, 4.0],\n",
              " [3.0, 1.0, 1.0, 1.0, 2.0, 1.0, 2.0, 1.0, 1.0, 2.0],\n",
              " [10.0, 10.0, 10.0, 10.0, 5.0, 10.0, 10.0, 10.0, 7.0, 4.0],\n",
              " [6.0, 9.0, 7.0, 5.0, 5.0, 8.0, 4.0, 2.0, 1.0, 2.0],\n",
              " [4.0, 1.0, 1.0, 1.0, 2.0, 1.0, 1.0, 1.0, 1.0, 2.0],\n",
              " [3.0, 1.0, 1.0, 1.0, 2.0, 1.0, 2.0, 1.0, 1.0, 2.0],\n",
              " [3.0, 2.0, 1.0, 1.0, 2.0, 1.0, 2.0, 2.0, 1.0, 2.0],\n",
              " [8.0, 10.0, 10.0, 10.0, 6.0, 10.0, 10.0, 10.0, 10.0, 4.0],\n",
              " [10.0, 10.0, 10.0, 10.0, 10.0, 10.0, 4.0, 10.0, 10.0, 4.0],\n",
              " [3.0, 3.0, 5.0, 2.0, 3.0, 10.0, 7.0, 1.0, 1.0, 4.0],\n",
              " [5.0, 2.0, 2.0, 2.0, 1.0, 1.0, 2.0, 1.0, 1.0, 2.0],\n",
              " [10.0, 10.0, 10.0, 10.0, 3.0, 10.0, 10.0, 6.0, 1.0, 4.0],\n",
              " [6.0, 10.0, 10.0, 10.0, 10.0, 10.0, 8.0, 10.0, 10.0, 4.0],\n",
              " [2.0, 3.0, 1.0, 1.0, 5.0, 1.0, 1.0, 1.0, 1.0, 2.0],\n",
              " [8.0, 8.0, 9.0, 6.0, 6.0, 3.0, 10.0, 10.0, 1.0, 4.0],\n",
              " [3.0, 1.0, 1.0, 1.0, 2.0, 1.0, 2.0, 1.0, 2.0, 2.0],\n",
              " [3.0, 1.0, 1.0, 1.0, 2.0, 1.0, 1.0, 1.0, 1.0, 2.0],\n",
              " [5.0, 1.0, 1.0, 3.0, 2.0, 1.0, 1.0, 1.0, 1.0, 2.0],\n",
              " [2.0, 1.0, 1.0, 1.0, 2.0, 1.0, 1.0, 1.0, 1.0, 2.0],\n",
              " [5.0, 1.0, 1.0, 1.0, 2.0, 1.0, 1.0, 1.0, 1.0, 2.0],\n",
              " [5.0, 8.0, 4.0, 10.0, 5.0, 8.0, 9.0, 10.0, 1.0, 4.0],\n",
              " [10.0, 5.0, 10.0, 3.0, 5.0, 8.0, 7.0, 8.0, 3.0, 4.0],\n",
              " [5.0, 3.0, 3.0, 2.0, 3.0, 1.0, 3.0, 1.0, 1.0, 2.0],\n",
              " [5.0, 1.0, 1.0, 1.0, 2.0, 1.0, 2.0, 1.0, 1.0, 2.0],\n",
              " [3.0, 1.0, 1.0, 1.0, 2.0, 1.0, 1.0, 1.0, 1.0, 2.0],\n",
              " [5.0, 7.0, 4.0, 1.0, 6.0, 1.0, 7.0, 10.0, 3.0, 4.0],\n",
              " [4.0, 8.0, 6.0, 3.0, 4.0, 10.0, 7.0, 1.0, 1.0, 4.0],\n",
              " [10.0, 6.0, 3.0, 6.0, 4.0, 10.0, 7.0, 8.0, 4.0, 4.0],\n",
              " [3.0, 6.0, 6.0, 6.0, 5.0, 10.0, 6.0, 8.0, 3.0, 4.0],\n",
              " [4.0, 1.0, 1.0, 1.0, 2.0, 1.0, 1.0, 1.0, 1.0, 2.0],\n",
              " [3.0, 1.0, 1.0, 1.0, 1.0, 1.0, 2.0, 1.0, 1.0, 2.0],\n",
              " [4.0, 1.0, 1.0, 2.0, 2.0, 1.0, 1.0, 1.0, 1.0, 2.0],\n",
              " [8.0, 6.0, 7.0, 3.0, 3.0, 10.0, 3.0, 4.0, 2.0, 4.0],\n",
              " [5.0, 1.0, 1.0, 2.0, 1.0, 1.0, 2.0, 1.0, 1.0, 2.0],\n",
              " [5.0, 1.0, 1.0, 1.0, 2.0, 1.0, 3.0, 1.0, 1.0, 2.0],\n",
              " [3.0, 7.0, 7.0, 4.0, 4.0, 9.0, 4.0, 8.0, 1.0, 4.0],\n",
              " [10.0, 3.0, 3.0, 10.0, 2.0, 10.0, 7.0, 3.0, 3.0, 4.0],\n",
              " [3.0, 1.0, 1.0, 1.0, 2.0, 1.0, 3.0, 1.0, 1.0, 2.0],\n",
              " [4.0, 1.0, 1.0, 1.0, 2.0, 3.0, 1.0, 1.0, 1.0, 2.0],\n",
              " [5.0, 1.0, 1.0, 1.0, 2.0, 1.0, 2.0, 2.0, 1.0, 2.0],\n",
              " [2.0, 1.0, 1.0, 1.0, 2.0, 1.0, 1.0, 1.0, 1.0, 2.0],\n",
              " [9.0, 5.0, 5.0, 2.0, 2.0, 2.0, 5.0, 1.0, 1.0, 4.0],\n",
              " [5.0, 2.0, 1.0, 1.0, 2.0, 1.0, 3.0, 1.0, 1.0, 2.0],\n",
              " [6.0, 10.0, 2.0, 8.0, 10.0, 2.0, 7.0, 8.0, 10.0, 4.0],\n",
              " [2.0, 1.0, 1.0, 1.0, 1.0, 1.0, 2.0, 1.0, 1.0, 2.0],\n",
              " [2.0, 1.0, 1.0, 1.0, 2.0, 1.0, 3.0, 1.0, 1.0, 2.0],\n",
              " [5.0, 10.0, 10.0, 8.0, 5.0, 5.0, 7.0, 10.0, 1.0, 4.0],\n",
              " [4.0, 1.0, 3.0, 3.0, 2.0, 1.0, 1.0, 1.0, 1.0, 2.0],\n",
              " [10.0, 5.0, 5.0, 6.0, 3.0, 10.0, 7.0, 9.0, 2.0, 4.0],\n",
              " [6.0, 6.0, 7.0, 10.0, 3.0, 10.0, 8.0, 10.0, 2.0, 4.0],\n",
              " [2.0, 5.0, 3.0, 3.0, 6.0, 7.0, 7.0, 5.0, 1.0, 4.0],\n",
              " [10.0, 10.0, 10.0, 8.0, 6.0, 8.0, 7.0, 10.0, 1.0, 4.0],\n",
              " [5.0, 10.0, 10.0, 3.0, 8.0, 1.0, 5.0, 10.0, 3.0, 4.0],\n",
              " [5.0, 1.0, 1.0, 1.0, 2.0, 1.0, 2.0, 1.0, 1.0, 2.0],\n",
              " [5.0, 3.0, 1.0, 1.0, 2.0, 1.0, 1.0, 1.0, 1.0, 2.0],\n",
              " [5.0, 2.0, 1.0, 1.0, 2.0, 1.0, 1.0, 1.0, 1.0, 2.0],\n",
              " [3.0, 10.0, 8.0, 7.0, 6.0, 9.0, 9.0, 3.0, 8.0, 4.0],\n",
              " [5.0, 4.0, 4.0, 9.0, 2.0, 10.0, 5.0, 6.0, 1.0, 4.0],\n",
              " [10.0, 10.0, 7.0, 8.0, 7.0, 1.0, 10.0, 10.0, 3.0, 4.0],\n",
              " [3.0, 1.0, 1.0, 2.0, 3.0, 4.0, 1.0, 1.0, 1.0, 2.0],\n",
              " [5.0, 10.0, 10.0, 10.0, 10.0, 10.0, 10.0, 1.0, 1.0, 4.0],\n",
              " [5.0, 10.0, 10.0, 10.0, 6.0, 10.0, 6.0, 5.0, 2.0, 4.0],\n",
              " [8.0, 4.0, 6.0, 3.0, 3.0, 1.0, 4.0, 3.0, 1.0, 2.0],\n",
              " [8.0, 10.0, 3.0, 2.0, 6.0, 4.0, 3.0, 10.0, 1.0, 4.0],\n",
              " [2.0, 1.0, 1.0, 1.0, 2.0, 1.0, 2.0, 2.0, 1.0, 2.0],\n",
              " [10.0, 10.0, 9.0, 3.0, 7.0, 5.0, 3.0, 5.0, 1.0, 4.0],\n",
              " [5.0, 1.0, 1.0, 1.0, 2.0, 1.0, 3.0, 1.0, 1.0, 2.0],\n",
              " [5.0, 3.0, 4.0, 1.0, 8.0, 10.0, 4.0, 9.0, 1.0, 4.0],\n",
              " [6.0, 1.0, 1.0, 1.0, 2.0, 1.0, 2.0, 1.0, 1.0, 2.0],\n",
              " [5.0, 1.0, 1.0, 1.0, 2.0, 1.0, 2.0, 1.0, 1.0, 2.0],\n",
              " [4.0, 1.0, 1.0, 1.0, 2.0, 1.0, 3.0, 1.0, 1.0, 2.0],\n",
              " [2.0, 1.0, 1.0, 1.0, 2.0, 1.0, 1.0, 1.0, 1.0, 2.0],\n",
              " [2.0, 1.0, 1.0, 1.0, 2.0, 1.0, 1.0, 1.0, 1.0, 2.0],\n",
              " [5.0, 1.0, 1.0, 1.0, 2.0, 1.0, 3.0, 2.0, 1.0, 2.0],\n",
              " [4.0, 2.0, 3.0, 5.0, 3.0, 8.0, 7.0, 6.0, 1.0, 4.0],\n",
              " [5.0, 1.0, 1.0, 1.0, 2.0, 1.0, 3.0, 1.0, 1.0, 2.0],\n",
              " [10.0, 10.0, 10.0, 10.0, 6.0, 10.0, 8.0, 1.0, 5.0, 4.0],\n",
              " [6.0, 1.0, 1.0, 1.0, 1.0, 1.0, 1.0, 1.0, 1.0, 2.0],\n",
              " [3.0, 3.0, 2.0, 6.0, 3.0, 3.0, 3.0, 5.0, 1.0, 2.0],\n",
              " [5.0, 1.0, 1.0, 1.0, 2.0, 1.0, 1.0, 1.0, 1.0, 2.0],\n",
              " [4.0, 1.0, 1.0, 1.0, 2.0, 1.0, 3.0, 2.0, 1.0, 2.0],\n",
              " [8.0, 10.0, 10.0, 10.0, 6.0, 10.0, 10.0, 10.0, 1.0, 4.0],\n",
              " [3.0, 1.0, 1.0, 1.0, 2.0, 1.0, 3.0, 1.0, 1.0, 2.0],\n",
              " [6.0, 10.0, 10.0, 10.0, 4.0, 10.0, 7.0, 10.0, 1.0, 4.0],\n",
              " [4.0, 1.0, 4.0, 1.0, 2.0, 1.0, 1.0, 1.0, 1.0, 2.0],\n",
              " [4.0, 6.0, 6.0, 5.0, 7.0, 6.0, 7.0, 7.0, 3.0, 4.0],\n",
              " [8.0, 8.0, 7.0, 4.0, 10.0, 10.0, 7.0, 8.0, 7.0, 4.0],\n",
              " [5.0, 10.0, 10.0, 5.0, 4.0, 5.0, 4.0, 4.0, 1.0, 4.0],\n",
              " [3.0, 1.0, 1.0, 1.0, 3.0, 1.0, 2.0, 1.0, 1.0, 2.0],\n",
              " [5.0, 10.0, 10.0, 6.0, 10.0, 10.0, 10.0, 6.0, 5.0, 4.0],\n",
              " [3.0, 1.0, 1.0, 1.0, 2.0, 1.0, 2.0, 1.0, 1.0, 2.0],\n",
              " [8.0, 4.0, 4.0, 1.0, 2.0, 9.0, 3.0, 3.0, 1.0, 4.0],\n",
              " [8.0, 3.0, 4.0, 9.0, 3.0, 10.0, 3.0, 3.0, 1.0, 4.0],\n",
              " [8.0, 2.0, 1.0, 1.0, 5.0, 1.0, 1.0, 1.0, 1.0, 2.0],\n",
              " [5.0, 1.0, 1.0, 2.0, 2.0, 1.0, 2.0, 1.0, 1.0, 2.0],\n",
              " [10.0, 9.0, 8.0, 7.0, 6.0, 4.0, 7.0, 10.0, 3.0, 4.0],\n",
              " [4.0, 1.0, 1.0, 1.0, 2.0, 1.0, 2.0, 1.0, 1.0, 2.0],\n",
              " [2.0, 1.0, 1.0, 1.0, 2.0, 1.0, 2.0, 1.0, 1.0, 2.0],\n",
              " [8.0, 10.0, 10.0, 8.0, 5.0, 10.0, 7.0, 8.0, 1.0, 4.0],\n",
              " [5.0, 10.0, 10.0, 3.0, 7.0, 3.0, 8.0, 10.0, 2.0, 4.0],\n",
              " [3.0, 1.0, 1.0, 1.0, 2.0, 1.0, 2.0, 1.0, 1.0, 2.0],\n",
              " [2.0, 1.0, 1.0, 1.0, 2.0, 1.0, 2.0, 1.0, 1.0, 2.0],\n",
              " [3.0, 1.0, 1.0, 2.0, 2.0, 1.0, 1.0, 1.0, 1.0, 2.0],\n",
              " [3.0, 1.0, 1.0, 1.0, 2.0, 5.0, 1.0, 1.0, 1.0, 2.0],\n",
              " [10.0, 6.0, 4.0, 3.0, 10.0, 10.0, 9.0, 10.0, 1.0, 4.0],\n",
              " [3.0, 1.0, 1.0, 1.0, 2.0, 1.0, 2.0, 1.0, 1.0, 2.0],\n",
              " [3.0, 4.0, 5.0, 3.0, 7.0, 3.0, 4.0, 6.0, 1.0, 2.0],\n",
              " [5.0, 2.0, 2.0, 4.0, 2.0, 4.0, 1.0, 1.0, 1.0, 2.0],\n",
              " [3.0, 10.0, 7.0, 8.0, 5.0, 8.0, 7.0, 4.0, 1.0, 4.0],\n",
              " [10.0, 10.0, 10.0, 10.0, 7.0, 10.0, 7.0, 10.0, 4.0, 4.0],\n",
              " [2.0, 1.0, 1.0, 1.0, 2.0, 1.0, 1.0, 1.0, 1.0, 2.0],\n",
              " [2.0, 1.0, 1.0, 1.0, 2.0, 1.0, 1.0, 1.0, 1.0, 2.0],\n",
              " [3.0, 1.0, 1.0, 1.0, 2.0, 1.0, 2.0, 1.0, 1.0, 2.0],\n",
              " [5.0, 2.0, 3.0, 1.0, 6.0, 10.0, 5.0, 1.0, 1.0, 4.0],\n",
              " [3.0, 2.0, 1.0, 1.0, 2.0, 2.0, 3.0, 1.0, 1.0, 2.0],\n",
              " [10.0, 3.0, 3.0, 1.0, 2.0, 10.0, 7.0, 6.0, 1.0, 4.0],\n",
              " [7.0, 4.0, 7.0, 4.0, 3.0, 7.0, 7.0, 6.0, 1.0, 4.0],\n",
              " [10.0, 8.0, 8.0, 2.0, 3.0, 4.0, 8.0, 7.0, 8.0, 4.0],\n",
              " [8.0, 10.0, 10.0, 10.0, 7.0, 5.0, 4.0, 8.0, 7.0, 4.0],\n",
              " [3.0, 1.0, 1.0, 1.0, 1.0, 1.0, 1.0, 1.0, 1.0, 2.0],\n",
              " [5.0, 4.0, 6.0, 10.0, 2.0, 10.0, 4.0, 1.0, 1.0, 4.0],\n",
              " [4.0, 1.0, 1.0, 1.0, 2.0, 1.0, 1.0, 1.0, 1.0, 2.0],\n",
              " [5.0, 7.0, 10.0, 6.0, 5.0, 10.0, 7.0, 5.0, 1.0, 4.0],\n",
              " [7.0, 2.0, 4.0, 1.0, 6.0, 10.0, 5.0, 4.0, 3.0, 4.0],\n",
              " [6.0, 1.0, 1.0, 1.0, 2.0, 1.0, 3.0, 1.0, 1.0, 2.0],\n",
              " [2.0, 1.0, 1.0, 1.0, 2.0, 1.0, 2.0, 1.0, 1.0, 2.0],\n",
              " [3.0, 1.0, 1.0, 1.0, 2.0, 1.0, 2.0, 1.0, 1.0, 2.0],\n",
              " [10.0, 3.0, 4.0, 5.0, 3.0, 10.0, 4.0, 1.0, 1.0, 4.0],\n",
              " [9.0, 10.0, 10.0, 1.0, 10.0, 8.0, 3.0, 3.0, 1.0, 4.0],\n",
              " [9.0, 7.0, 7.0, 5.0, 5.0, 10.0, 7.0, 8.0, 3.0, 4.0],\n",
              " [2.0, 1.0, 1.0, 1.0, 2.0, 1.0, 2.0, 1.0, 1.0, 2.0],\n",
              " [5.0, 3.0, 3.0, 1.0, 2.0, 1.0, 2.0, 1.0, 1.0, 2.0],\n",
              " [3.0, 3.0, 1.0, 1.0, 2.0, 1.0, 1.0, 1.0, 1.0, 2.0],\n",
              " [5.0, 1.0, 1.0, 1.0, 2.0, 1.0, 2.0, 1.0, 1.0, 2.0],\n",
              " [10.0, 10.0, 10.0, 6.0, 8.0, 4.0, 8.0, 5.0, 1.0, 4.0],\n",
              " [5.0, 1.0, 2.0, 1.0, 2.0, 1.0, 2.0, 1.0, 1.0, 2.0],\n",
              " [5.0, 5.0, 5.0, 6.0, 3.0, 10.0, 3.0, 1.0, 1.0, 4.0],\n",
              " [4.0, 1.0, 1.0, 3.0, 2.0, 1.0, 1.0, 1.0, 1.0, 2.0],\n",
              " [4.0, 10.0, 4.0, 7.0, 3.0, 10.0, 9.0, 10.0, 1.0, 4.0],\n",
              " [5.0, 2.0, 2.0, 2.0, 2.0, 1.0, 1.0, 1.0, 2.0, 2.0],\n",
              " [5.0, 1.0, 3.0, 1.0, 2.0, 1.0, 2.0, 1.0, 1.0, 2.0],\n",
              " [6.0, 10.0, 10.0, 10.0, 8.0, 10.0, 7.0, 10.0, 7.0, 4.0],\n",
              " [3.0, 1.0, 1.0, 1.0, 3.0, 1.0, 2.0, 1.0, 1.0, 2.0],\n",
              " [4.0, 8.0, 6.0, 4.0, 3.0, 4.0, 10.0, 6.0, 1.0, 4.0],\n",
              " [4.0, 1.0, 1.0, 1.0, 2.0, 1.0, 2.0, 1.0, 1.0, 2.0],\n",
              " [3.0, 1.0, 1.0, 1.0, 2.0, 1.0, 1.0, 1.0, 1.0, 2.0],\n",
              " [6.0, 1.0, 1.0, 3.0, 2.0, 1.0, 1.0, 1.0, 1.0, 2.0],\n",
              " [3.0, 1.0, 1.0, 1.0, 2.0, 1.0, 2.0, 1.0, 1.0, 2.0],\n",
              " [5.0, 1.0, 1.0, 1.0, 2.0, 2.0, 3.0, 3.0, 1.0, 2.0],\n",
              " [5.0, 1.0, 3.0, 1.0, 2.0, 1.0, 2.0, 1.0, 1.0, 2.0],\n",
              " [9.0, 10.0, 10.0, 10.0, 10.0, 5.0, 10.0, 10.0, 10.0, 4.0],\n",
              " [2.0, 1.0, 1.0, 1.0, 2.0, 1.0, 1.0, 1.0, 1.0, 2.0],\n",
              " [8.0, 7.0, 8.0, 2.0, 4.0, 2.0, 5.0, 10.0, 1.0, 4.0],\n",
              " [4.0, 1.0, 1.0, 3.0, 1.0, 1.0, 2.0, 1.0, 1.0, 2.0],\n",
              " [4.0, 1.0, 1.0, 1.0, 1.0, 1.0, 2.0, 1.0, 1.0, 2.0],\n",
              " [5.0, 1.0, 1.0, 4.0, 2.0, 1.0, 3.0, 1.0, 1.0, 2.0],\n",
              " [4.0, 1.0, 1.0, 3.0, 1.0, 5.0, 2.0, 1.0, 1.0, 4.0],\n",
              " [4.0, 2.0, 2.0, 1.0, 2.0, 1.0, 2.0, 1.0, 1.0, 2.0],\n",
              " [7.0, 1.0, 2.0, 3.0, 2.0, 1.0, 2.0, 1.0, 1.0, 2.0],\n",
              " [4.0, 1.0, 1.0, 1.0, 2.0, 1.0, 3.0, 6.0, 1.0, 2.0],\n",
              " [5.0, 1.0, 1.0, 1.0, 2.0, 1.0, 2.0, 1.0, 1.0, 2.0],\n",
              " [10.0, 4.0, 4.0, 10.0, 2.0, 10.0, 5.0, 3.0, 3.0, 4.0],\n",
              " [3.0, 4.0, 4.0, 10.0, 5.0, 1.0, 3.0, 3.0, 1.0, 4.0],\n",
              " [4.0, 1.0, 1.0, 1.0, 2.0, 1.0, 1.0, 1.0, 1.0, 2.0],\n",
              " [4.0, 1.0, 1.0, 1.0, 3.0, 1.0, 2.0, 2.0, 1.0, 2.0],\n",
              " [6.0, 1.0, 3.0, 1.0, 2.0, 1.0, 3.0, 1.0, 1.0, 2.0],\n",
              " [5.0, 8.0, 9.0, 4.0, 3.0, 10.0, 7.0, 1.0, 1.0, 4.0],\n",
              " [7.0, 3.0, 2.0, 10.0, 5.0, 10.0, 5.0, 4.0, 4.0, 4.0],\n",
              " [5.0, 1.0, 1.0, 1.0, 2.0, 1.0, 1.0, 1.0, 1.0, 2.0],\n",
              " [5.0, 3.0, 1.0, 2.0, 2.0, 1.0, 2.0, 1.0, 1.0, 2.0],\n",
              " [4.0, 1.0, 1.0, 1.0, 2.0, 1.0, 3.0, 1.0, 1.0, 2.0],\n",
              " [5.0, 3.0, 4.0, 1.0, 4.0, 1.0, 3.0, 1.0, 1.0, 2.0],\n",
              " [5.0, 3.0, 3.0, 3.0, 6.0, 10.0, 3.0, 1.0, 1.0, 4.0],\n",
              " [10.0, 8.0, 8.0, 2.0, 8.0, 10.0, 4.0, 8.0, 10.0, 4.0],\n",
              " [5.0, 3.0, 5.0, 5.0, 3.0, 3.0, 4.0, 10.0, 1.0, 4.0],\n",
              " [6.0, 3.0, 4.0, 1.0, 5.0, 2.0, 3.0, 9.0, 1.0, 4.0],\n",
              " [5.0, 4.0, 4.0, 5.0, 7.0, 10.0, 3.0, 2.0, 1.0, 2.0],\n",
              " [8.0, 10.0, 8.0, 8.0, 4.0, 8.0, 7.0, 7.0, 1.0, 4.0],\n",
              " [2.0, 3.0, 4.0, 4.0, 2.0, 5.0, 2.0, 5.0, 1.0, 4.0],\n",
              " [4.0, 1.0, 1.0, 1.0, 2.0, 1.0, 3.0, 2.0, 1.0, 2.0],\n",
              " [5.0, 6.0, 6.0, 2.0, 4.0, 10.0, 3.0, 6.0, 1.0, 4.0],\n",
              " [5.0, 3.0, 3.0, 1.0, 3.0, 3.0, 3.0, 3.0, 3.0, 4.0],\n",
              " [2.0, 1.0, 1.0, 1.0, 2.0, 1.0, 2.0, 1.0, 1.0, 2.0],\n",
              " [6.0, 3.0, 2.0, 1.0, 3.0, 4.0, 4.0, 1.0, 1.0, 4.0],\n",
              " [6.0, 10.0, 10.0, 2.0, 8.0, 10.0, 7.0, 3.0, 3.0, 4.0],\n",
              " [4.0, 1.0, 1.0, 2.0, 2.0, 1.0, 2.0, 1.0, 1.0, 2.0],\n",
              " [4.0, 1.0, 2.0, 1.0, 2.0, 1.0, 2.0, 1.0, 1.0, 2.0],\n",
              " [10.0, 4.0, 4.0, 10.0, 6.0, 10.0, 5.0, 5.0, 1.0, 4.0],\n",
              " [3.0, 10.0, 3.0, 10.0, 6.0, 10.0, 5.0, 1.0, 4.0, 4.0],\n",
              " [5.0, 1.0, 3.0, 1.0, 2.0, 1.0, 1.0, 1.0, 1.0, 2.0],\n",
              " [10.0, 10.0, 10.0, 8.0, 6.0, 1.0, 8.0, 9.0, 1.0, 4.0],\n",
              " [5.0, 5.0, 5.0, 8.0, 10.0, 8.0, 7.0, 3.0, 7.0, 4.0],\n",
              " [6.0, 5.0, 4.0, 4.0, 3.0, 9.0, 7.0, 8.0, 3.0, 4.0],\n",
              " [7.0, 6.0, 6.0, 3.0, 2.0, 10.0, 7.0, 1.0, 1.0, 4.0],\n",
              " [10.0, 3.0, 6.0, 2.0, 3.0, 5.0, 4.0, 10.0, 2.0, 4.0],\n",
              " [10.0, 4.0, 2.0, 1.0, 3.0, 2.0, 4.0, 3.0, 10.0, 4.0],\n",
              " [2.0, 1.0, 1.0, 1.0, 2.0, 1.0, 3.0, 1.0, 1.0, 2.0],\n",
              " [2.0, 1.0, 1.0, 2.0, 2.0, 1.0, 1.0, 1.0, 1.0, 2.0],\n",
              " [5.0, 1.0, 1.0, 1.0, 1.0, 1.0, 1.0, 1.0, 1.0, 2.0],\n",
              " [5.0, 1.0, 1.0, 3.0, 2.0, 1.0, 1.0, 1.0, 1.0, 2.0],\n",
              " [4.0, 1.0, 1.0, 1.0, 2.0, 3.0, 2.0, 1.0, 1.0, 2.0],\n",
              " [6.0, 1.0, 3.0, 1.0, 4.0, 5.0, 5.0, 10.0, 1.0, 4.0],\n",
              " [5.0, 2.0, 2.0, 2.0, 3.0, 1.0, 1.0, 3.0, 1.0, 2.0],\n",
              " [2.0, 3.0, 1.0, 1.0, 2.0, 1.0, 2.0, 1.0, 1.0, 2.0],\n",
              " [2.0, 7.0, 10.0, 10.0, 7.0, 10.0, 4.0, 9.0, 4.0, 4.0],\n",
              " [3.0, 1.0, 1.0, 1.0, 2.0, 1.0, 2.0, 1.0, 1.0, 2.0],\n",
              " [6.0, 6.0, 6.0, 5.0, 4.0, 10.0, 7.0, 6.0, 2.0, 4.0],\n",
              " [5.0, 1.0, 2.0, 1.0, 2.0, 1.0, 1.0, 1.0, 1.0, 2.0],\n",
              " [7.0, 6.0, 3.0, 2.0, 5.0, 10.0, 7.0, 4.0, 6.0, 4.0],\n",
              " [4.0, 1.0, 1.0, 1.0, 2.0, 1.0, 1.0, 1.0, 1.0, 2.0],\n",
              " [2.0, 1.0, 1.0, 1.0, 2.0, 1.0, 3.0, 1.0, 1.0, 2.0],\n",
              " [6.0, 2.0, 3.0, 1.0, 2.0, 1.0, 1.0, 1.0, 1.0, 2.0],\n",
              " [5.0, 3.0, 3.0, 3.0, 2.0, 3.0, 4.0, 4.0, 1.0, 4.0],\n",
              " [10.0, 10.0, 10.0, 2.0, 10.0, 10.0, 5.0, 3.0, 3.0, 4.0],\n",
              " [8.0, 10.0, 10.0, 10.0, 8.0, 10.0, 10.0, 7.0, 3.0, 4.0],\n",
              " [3.0, 1.0, 4.0, 1.0, 2.0, 1.0, 1.0, 1.0, 1.0, 2.0],\n",
              " [10.0, 4.0, 3.0, 1.0, 3.0, 3.0, 6.0, 5.0, 2.0, 4.0],\n",
              " [5.0, 7.0, 7.0, 1.0, 5.0, 8.0, 3.0, 4.0, 1.0, 2.0],\n",
              " [2.0, 3.0, 2.0, 2.0, 2.0, 2.0, 3.0, 1.0, 1.0, 2.0],\n",
              " [7.0, 6.0, 10.0, 5.0, 3.0, 10.0, 9.0, 10.0, 2.0, 4.0],\n",
              " [5.0, 1.0, 1.0, 1.0, 2.0, 1.0, 1.0, 1.0, 1.0, 2.0],\n",
              " [7.0, 4.0, 6.0, 4.0, 6.0, 1.0, 4.0, 3.0, 1.0, 4.0],\n",
              " [10.0, 10.0, 10.0, 3.0, 10.0, 10.0, 9.0, 10.0, 1.0, 4.0],\n",
              " [3.0, 1.0, 1.0, 1.0, 2.0, 3.0, 3.0, 1.0, 1.0, 2.0],\n",
              " [8.0, 10.0, 10.0, 8.0, 7.0, 10.0, 9.0, 7.0, 1.0, 4.0],\n",
              " [3.0, 2.0, 1.0, 1.0, 1.0, 1.0, 2.0, 1.0, 1.0, 2.0],\n",
              " [5.0, 1.0, 1.0, 1.0, 2.0, 2.0, 2.0, 1.0, 1.0, 2.0],\n",
              " [2.0, 1.0, 1.0, 1.0, 2.0, 1.0, 1.0, 1.0, 1.0, 2.0],\n",
              " [3.0, 1.0, 1.0, 1.0, 2.0, 1.0, 2.0, 2.0, 1.0, 2.0],\n",
              " [10.0, 1.0, 1.0, 1.0, 2.0, 10.0, 5.0, 4.0, 1.0, 4.0],\n",
              " [4.0, 4.0, 2.0, 1.0, 2.0, 5.0, 2.0, 1.0, 2.0, 2.0],\n",
              " [3.0, 3.0, 2.0, 1.0, 3.0, 1.0, 3.0, 6.0, 1.0, 2.0],\n",
              " [3.0, 1.0, 1.0, 1.0, 2.0, 2.0, 7.0, 1.0, 1.0, 2.0],\n",
              " [8.0, 7.0, 6.0, 4.0, 4.0, 10.0, 5.0, 1.0, 1.0, 4.0],\n",
              " [3.0, 1.0, 1.0, 4.0, 3.0, 1.0, 2.0, 2.0, 1.0, 2.0],\n",
              " [8.0, 7.0, 4.0, 4.0, 5.0, 3.0, 5.0, 10.0, 1.0, 4.0],\n",
              " [8.0, 4.0, 4.0, 5.0, 4.0, 7.0, 7.0, 8.0, 2.0, 2.0],\n",
              " [5.0, 1.0, 1.0, 6.0, 3.0, 1.0, 1.0, 1.0, 1.0, 2.0],\n",
              " [4.0, 1.0, 1.0, 1.0, 2.0, 1.0, 2.0, 1.0, 1.0, 2.0],\n",
              " [3.0, 1.0, 1.0, 1.0, 2.0, 1.0, 3.0, 1.0, 1.0, 2.0],\n",
              " [5.0, 1.0, 1.0, 1.0, 2.0, 1.0, 3.0, 1.0, 1.0, 2.0],\n",
              " [7.0, 8.0, 8.0, 7.0, 3.0, 10.0, 7.0, 2.0, 3.0, 4.0],\n",
              " [10.0, 4.0, 5.0, 5.0, 5.0, 10.0, 4.0, 1.0, 1.0, 4.0],\n",
              " [8.0, 3.0, 3.0, 1.0, 2.0, 2.0, 3.0, 2.0, 1.0, 2.0],\n",
              " [3.0, 1.0, 1.0, 1.0, 1.0, 1.0, 2.0, 1.0, 1.0, 2.0],\n",
              " [10.0, 5.0, 7.0, 4.0, 4.0, 10.0, 8.0, 9.0, 1.0, 4.0],\n",
              " [5.0, 1.0, 1.0, 3.0, 4.0, 1.0, 3.0, 2.0, 1.0, 2.0],\n",
              " [8.0, 6.0, 4.0, 3.0, 5.0, 9.0, 3.0, 1.0, 1.0, 4.0],\n",
              " [10.0, 10.0, 10.0, 7.0, 9.0, 10.0, 7.0, 10.0, 10.0, 4.0],\n",
              " [7.0, 3.0, 4.0, 4.0, 3.0, 3.0, 3.0, 2.0, 7.0, 4.0],\n",
              " [5.0, 3.0, 5.0, 1.0, 8.0, 10.0, 5.0, 3.0, 1.0, 4.0],\n",
              " [10.0, 6.0, 4.0, 1.0, 3.0, 4.0, 3.0, 2.0, 3.0, 4.0],\n",
              " [3.0, 1.0, 1.0, 1.0, 2.0, 1.0, 2.0, 1.0, 1.0, 2.0],\n",
              " [2.0, 2.0, 2.0, 1.0, 1.0, 1.0, 7.0, 1.0, 1.0, 2.0],\n",
              " [8.0, 10.0, 10.0, 1.0, 3.0, 6.0, 3.0, 9.0, 1.0, 4.0],\n",
              " [4.0, 1.0, 2.0, 1.0, 2.0, 1.0, 2.0, 1.0, 1.0, 2.0],\n",
              " [4.0, 3.0, 3.0, 1.0, 2.0, 1.0, 3.0, 3.0, 1.0, 2.0],\n",
              " [5.0, 1.0, 4.0, 1.0, 2.0, 1.0, 3.0, 2.0, 1.0, 2.0],\n",
              " [10.0, 10.0, 8.0, 10.0, 6.0, 5.0, 10.0, 3.0, 1.0, 4.0],\n",
              " [5.0, 2.0, 4.0, 1.0, 1.0, 1.0, 1.0, 1.0, 1.0, 2.0],\n",
              " [5.0, 8.0, 8.0, 10.0, 5.0, 10.0, 8.0, 10.0, 3.0, 4.0],\n",
              " [5.0, 10.0, 10.0, 9.0, 6.0, 10.0, 7.0, 10.0, 5.0, 4.0],\n",
              " [3.0, 2.0, 2.0, 2.0, 2.0, 1.0, 4.0, 2.0, 1.0, 2.0],\n",
              " [3.0, 1.0, 1.0, 1.0, 2.0, 1.0, 3.0, 1.0, 1.0, 2.0],\n",
              " [10.0, 3.0, 5.0, 4.0, 3.0, 7.0, 3.0, 5.0, 3.0, 4.0],\n",
              " [5.0, 1.0, 1.0, 1.0, 2.0, 1.0, 3.0, 1.0, 2.0, 2.0],\n",
              " [4.0, 1.0, 2.0, 1.0, 2.0, 1.0, 2.0, 1.0, 1.0, 2.0],\n",
              " [3.0, 1.0, 1.0, 1.0, 1.0, 1.0, 2.0, 1.0, 1.0, 2.0],\n",
              " [3.0, 1.0, 1.0, 1.0, 2.0, 1.0, 2.0, 1.0, 1.0, 2.0],\n",
              " [6.0, 8.0, 7.0, 8.0, 6.0, 8.0, 8.0, 9.0, 1.0, 4.0],\n",
              " [7.0, 5.0, 10.0, 10.0, 10.0, 10.0, 4.0, 10.0, 3.0, 4.0],\n",
              " [2.0, 1.0, 1.0, 1.0, 3.0, 1.0, 2.0, 1.0, 1.0, 2.0],\n",
              " [3.0, 1.0, 1.0, 1.0, 2.0, 1.0, 2.0, 1.0, 1.0, 2.0],\n",
              " [3.0, 1.0, 1.0, 3.0, 8.0, 1.0, 5.0, 8.0, 1.0, 2.0]]"
            ]
          },
          "metadata": {
            "tags": []
          },
          "execution_count": 86
        }
      ]
    },
    {
      "metadata": {
        "id": "UkITmm5xFZsG",
        "colab_type": "text"
      },
      "cell_type": "markdown",
      "source": [
        "This will give all values less than two in the first column"
      ]
    },
    {
      "metadata": {
        "id": "FnL9J7ZKFYnv",
        "colab_type": "code",
        "colab": {}
      },
      "cell_type": "code",
      "source": [
        "def gini(rows):\n",
        "    \"\"\"Calculate the Gini Impurity for a list of rows.\n",
        "\n",
        "    There are a few different ways to do this, I thought this one was\n",
        "    the most concise. See:\n",
        "    https://en.wikipedia.org/wiki/Decision_tree_learning#Gini_impurity\n",
        "    \"\"\"\n",
        "    counts = class_counts(rows)\n",
        "    impurity = 1\n",
        "    for lbl in counts:\n",
        "        prob_of_lbl = counts[lbl] / float(len(rows))\n",
        "        impurity -= prob_of_lbl**2\n",
        "    return impurity "
      ],
      "execution_count": 0,
      "outputs": []
    },
    {
      "metadata": {
        "id": "vNIbuyYtFmeb",
        "colab_type": "code",
        "colab": {}
      },
      "cell_type": "code",
      "source": [
        "def info_gain(left, right, current_uncertainty):\n",
        "    \"\"\"Information Gain.\n",
        "\n",
        "    The uncertainty of the starting node, minus the weighted impurity of\n",
        "    two child nodes.\n",
        "    \"\"\"\n",
        "    p = float(len(left)) / (len(left) + len(right))\n",
        "    return current_uncertainty - p * gini(left) - (1 - p) * gini(right)"
      ],
      "execution_count": 0,
      "outputs": []
    },
    {
      "metadata": {
        "id": "zPnyHTynFo49",
        "colab_type": "code",
        "colab": {
          "base_uri": "https://localhost:8080/",
          "height": 34
        },
        "outputId": "a4d6b3bd-1e23-4231-87ec-0354c66419ac"
      },
      "cell_type": "code",
      "source": [
        "current_uncertainty = gini(train_set)\n",
        "current_uncertainty"
      ],
      "execution_count": 64,
      "outputs": [
        {
          "output_type": "execute_result",
          "data": {
            "text/plain": [
              "0.4551320615575694"
            ]
          },
          "metadata": {
            "tags": []
          },
          "execution_count": 64
        }
      ]
    },
    {
      "metadata": {
        "id": "htnar3UKF9ER",
        "colab_type": "code",
        "colab": {}
      },
      "cell_type": "code",
      "source": [
        "def find_best_split(rows):\n",
        "    \"\"\"Find the best question to ask by iterating over every feature / value\n",
        "    and calculating the information gain.\"\"\"\n",
        "    best_gain = 0  # keep track of the best information gain\n",
        "    best_question = None  # keep train of the feature / value that produced it\n",
        "    current_uncertainty = gini(rows)\n",
        "    n_features = len(rows[0]) - 1  # number of columns\n",
        "\n",
        "    for col in range(n_features):  # for each feature\n",
        "\n",
        "        values = set([row[col] for row in rows])  # unique values in the column\n",
        "\n",
        "        for val in values:  # for each value\n",
        "\n",
        "            question = Question(col, val)\n",
        "\n",
        "            # try splitting the dataset\n",
        "            true_rows, false_rows = partition(rows, question)\n",
        "\n",
        "            # Skip this split if it doesn't divide the\n",
        "            # dataset.\n",
        "            if len(true_rows) == 0 or len(false_rows) == 0:\n",
        "                continue\n",
        "\n",
        "            # Calculate the information gain from this split\n",
        "            gain = info_gain(true_rows, false_rows, current_uncertainty)\n",
        "\n",
        "            # You actually can use '>' instead of '>=' here\n",
        "            # but I wanted the tree to look a certain way for our\n",
        "            # toy dataset.\n",
        "            if gain >= best_gain:\n",
        "                best_gain, best_question = gain, question\n",
        "\n",
        "    return best_gain, best_question"
      ],
      "execution_count": 0,
      "outputs": []
    },
    {
      "metadata": {
        "id": "_NUkRm9THpkf",
        "colab_type": "code",
        "colab": {
          "base_uri": "https://localhost:8080/",
          "height": 34
        },
        "outputId": "ac478091-2165-49de-c7c6-072564c32c3c"
      },
      "cell_type": "code",
      "source": [
        "best_gain, best_question = find_best_split(train_set)\n",
        "best_question, best_gain"
      ],
      "execution_count": 66,
      "outputs": [
        {
          "output_type": "execute_result",
          "data": {
            "text/plain": [
              "(Is Cellsize >= 3.0?, 0.3346107872741548)"
            ]
          },
          "metadata": {
            "tags": []
          },
          "execution_count": 66
        }
      ]
    },
    {
      "metadata": {
        "id": "fD0XNKjnH4DZ",
        "colab_type": "code",
        "colab": {}
      },
      "cell_type": "code",
      "source": [
        "class Leaf:\n",
        "    \"\"\"A Leaf node classifies data.\n",
        "\n",
        "    This holds a dictionary of class (e.g., \"Apple\") -> number of times\n",
        "    it appears in the rows from the training data that reach this leaf.\n",
        "    \"\"\"\n",
        "\n",
        "    def __init__(self, rows):\n",
        "        self.predictions = class_counts(rows)"
      ],
      "execution_count": 0,
      "outputs": []
    },
    {
      "metadata": {
        "id": "QqVarO3CH5w1",
        "colab_type": "code",
        "colab": {}
      },
      "cell_type": "code",
      "source": [
        "class Decision_Node:\n",
        "    \"\"\"A Decision Node asks a question.\n",
        "\n",
        "    This holds a reference to the question, and to the two child nodes.\n",
        "    \"\"\"\n",
        "\n",
        "    def __init__(self,\n",
        "                 question,\n",
        "                 true_branch,\n",
        "                 false_branch):\n",
        "        self.question = question\n",
        "        self.true_branch = true_branch\n",
        "        self.false_branch = false_branch"
      ],
      "execution_count": 0,
      "outputs": []
    },
    {
      "metadata": {
        "id": "XlNwj3ZjH7CP",
        "colab_type": "code",
        "colab": {}
      },
      "cell_type": "code",
      "source": [
        "# def build_tree(rows,max_depth):\n",
        "#     \"\"\"Builds the tree.\n",
        "\n",
        "#     Rules of recursion: 1) Believe that it works. 2) Start by checking\n",
        "#     for the base case (no further information gain). 3) Prepare for\n",
        "#     giant stack traces.\n",
        "#     \"\"\"\n",
        "\n",
        "#     # Try partitioing the dataset on each of the unique attribute,\n",
        "#     # calculate the information gain,\n",
        "#     # and return the question that produces the highest gain.\n",
        "#     gain, question = find_best_split(rows)\n",
        "\n",
        "#     # Base case: no further info gain\n",
        "#     # Since we can ask no further questions,\n",
        "#     # we'll return a leaf.\n",
        "#     if gain == 0:\n",
        "#         return Leaf(rows)\n",
        "\n",
        "#     # If we reach here, we have found a useful feature / value\n",
        "#     # to partition on.\n",
        "#     true_rows, false_rows = partition(rows, question)\n",
        "\n",
        "#     if(max_depth>-1):\n",
        "#       max_depth-=1\n",
        "#       # Recursively build the true branch.\n",
        "#       true_branch = build_tree(true_rows,max_depth)\n",
        "\n",
        "#       # Recursively build the false branch.\n",
        "#       false_branch = build_tree(false_rows,max_depth)\n",
        "\n",
        "#     # Return a Question node.\n",
        "#     # This records the best feature / value to ask at this point,\n",
        "#     # as well as the branches to follow\n",
        "#     # dependingo on the answer.\n",
        "#       return Decision_Node(question, true_branch, false_branch)"
      ],
      "execution_count": 0,
      "outputs": []
    },
    {
      "metadata": {
        "id": "NMhK1wni-Wvw",
        "colab_type": "code",
        "colab": {}
      },
      "cell_type": "code",
      "source": [
        "def build_tree(rows,maxdepth):\n",
        "  gain, question = find_best_split(rows)\n",
        "  if gain == 0:\n",
        "      return Leaf(rows)\n",
        "  if max_depth==1:\n",
        "      true_rows, false_rows = partition(rows, question)\n",
        "      true_branch=Leaf(true_rows)\n",
        "      false_branch=Leaf(false_rows)\n",
        "  return Decision_Node(question, true_branch, false_branch)"
      ],
      "execution_count": 0,
      "outputs": []
    },
    {
      "metadata": {
        "id": "vU2keUQAIBNy",
        "colab_type": "code",
        "colab": {}
      },
      "cell_type": "code",
      "source": [
        "def print_tree(node, spacing=\"\"):\n",
        "    \"\"\"World's most elegant tree printing function.\"\"\"\n",
        "\n",
        "    # Base case: we've reached a leaf\n",
        "    if isinstance(node, Leaf):\n",
        "        print (spacing + \"Predict\", node.predictions)\n",
        "        return\n",
        "\n",
        "    # Print the question at this node\n",
        "    print (spacing + str(node.question))\n",
        "\n",
        "    # Call this function recursively on the true branch\n",
        "    print (spacing + '--> True:')\n",
        "    print_tree(node.true_branch, spacing + \"  \")\n",
        "\n",
        "    # Call this function recursively on the false branch\n",
        "    print (spacing + '--> False:')\n",
        "    print_tree(node.false_branch, spacing + \"  \")"
      ],
      "execution_count": 0,
      "outputs": []
    },
    {
      "metadata": {
        "id": "vcRVvppHIFZa",
        "colab_type": "code",
        "colab": {
          "base_uri": "https://localhost:8080/",
          "height": 101
        },
        "outputId": "0073d5aa-32ee-4e2f-d440-abbc396edb60"
      },
      "cell_type": "code",
      "source": [
        "max_depth=1\n",
        "\n",
        "# for _ in range(0,max_depth):\n",
        "#   quest,t_rows,f_rows = build_tree(train_set)\n",
        "  \n",
        "my_tree=build_tree(train_set,max_depth)\n",
        "print_tree(my_tree)"
      ],
      "execution_count": 90,
      "outputs": [
        {
          "output_type": "stream",
          "text": [
            "Is Cellsize >= 3.0?\n",
            "--> True:\n",
            "  Predict {4.0: 153, 2.0: 25}\n",
            "--> False:\n",
            "  Predict {2.0: 270, 4.0: 6}\n"
          ],
          "name": "stdout"
        }
      ]
    },
    {
      "metadata": {
        "id": "ppdZanNYI-bR",
        "colab_type": "text"
      },
      "cell_type": "markdown",
      "source": [
        "Predicting the Class"
      ]
    },
    {
      "metadata": {
        "id": "IZNRIv33I91h",
        "colab_type": "code",
        "colab": {}
      },
      "cell_type": "code",
      "source": [
        "def classify(row, node):\n",
        "    \"\"\"See the 'rules of recursion' above.\"\"\"\n",
        "\n",
        "    # Base case: we've reached a leaf\n",
        "    if isinstance(node, Leaf):\n",
        "        return node.predictions\n",
        "\n",
        "    # Decide whether to follow the true-branch or the false-branch.\n",
        "    # Compare the feature / value stored in the node,\n",
        "    # to the example we're considering.\n",
        "    if node.question.match(row):\n",
        "        return classify(row, node.true_branch)\n",
        "    else:\n",
        "        return classify(row, node.false_branch)"
      ],
      "execution_count": 0,
      "outputs": []
    },
    {
      "metadata": {
        "id": "h28YEgxXJMYx",
        "colab_type": "code",
        "colab": {
          "base_uri": "https://localhost:8080/",
          "height": 34
        },
        "outputId": "4519dd3c-a5e7-46e4-8624-ff0ffc116979"
      },
      "cell_type": "code",
      "source": [
        "classify(test_set[11], my_tree)"
      ],
      "execution_count": 98,
      "outputs": [
        {
          "output_type": "execute_result",
          "data": {
            "text/plain": [
              "{2.0: 270, 4.0: 6}"
            ]
          },
          "metadata": {
            "tags": []
          },
          "execution_count": 98
        }
      ]
    },
    {
      "metadata": {
        "id": "_KIZBuPTJQb6",
        "colab_type": "code",
        "colab": {}
      },
      "cell_type": "code",
      "source": [
        "def print_leaf(counts):\n",
        "    \"\"\"A nicer way to print the predictions at a leaf.\"\"\"\n",
        "    total = sum(counts.values()) * 1.0\n",
        "    probs = {}\n",
        "    for lbl in counts.keys():\n",
        "        probs[lbl] = str(int(counts[lbl] / total * 100)) + \"%\"\n",
        "    return probs"
      ],
      "execution_count": 0,
      "outputs": []
    },
    {
      "metadata": {
        "id": "1WDeXodcJY84",
        "colab_type": "code",
        "colab": {}
      },
      "cell_type": "code",
      "source": [
        "#print_leaf(classify(train_set[], my_tree))"
      ],
      "execution_count": 0,
      "outputs": []
    },
    {
      "metadata": {
        "id": "9jGDOsPXJepz",
        "colab_type": "code",
        "colab": {
          "base_uri": "https://localhost:8080/",
          "height": 3847
        },
        "outputId": "f13ee546-4964-4176-ddad-a45d213928b1"
      },
      "cell_type": "code",
      "source": [
        "for row in test_set:\n",
        "    print (\"Actual: %s. Predicted: %s\" %\n",
        "           (row[-1], print_leaf(classify(row, my_tree))))"
      ],
      "execution_count": 94,
      "outputs": [
        {
          "output_type": "stream",
          "text": [
            "Actual: 4.0. Predicted: {4.0: '85%', 2.0: '14%'}\n",
            "Actual: 2.0. Predicted: {2.0: '97%', 4.0: '2%'}\n",
            "Actual: 4.0. Predicted: {4.0: '85%', 2.0: '14%'}\n",
            "Actual: 4.0. Predicted: {4.0: '85%', 2.0: '14%'}\n",
            "Actual: 2.0. Predicted: {2.0: '97%', 4.0: '2%'}\n",
            "Actual: 2.0. Predicted: {2.0: '97%', 4.0: '2%'}\n",
            "Actual: 4.0. Predicted: {4.0: '85%', 2.0: '14%'}\n",
            "Actual: 2.0. Predicted: {2.0: '97%', 4.0: '2%'}\n",
            "Actual: 2.0. Predicted: {2.0: '97%', 4.0: '2%'}\n",
            "Actual: 4.0. Predicted: {4.0: '85%', 2.0: '14%'}\n",
            "Actual: 4.0. Predicted: {4.0: '85%', 2.0: '14%'}\n",
            "Actual: 2.0. Predicted: {2.0: '97%', 4.0: '2%'}\n",
            "Actual: 2.0. Predicted: {2.0: '97%', 4.0: '2%'}\n",
            "Actual: 2.0. Predicted: {2.0: '97%', 4.0: '2%'}\n",
            "Actual: 2.0. Predicted: {2.0: '97%', 4.0: '2%'}\n",
            "Actual: 2.0. Predicted: {2.0: '97%', 4.0: '2%'}\n",
            "Actual: 4.0. Predicted: {4.0: '85%', 2.0: '14%'}\n",
            "Actual: 4.0. Predicted: {4.0: '85%', 2.0: '14%'}\n",
            "Actual: 4.0. Predicted: {4.0: '85%', 2.0: '14%'}\n",
            "Actual: 4.0. Predicted: {4.0: '85%', 2.0: '14%'}\n",
            "Actual: 2.0. Predicted: {2.0: '97%', 4.0: '2%'}\n",
            "Actual: 2.0. Predicted: {2.0: '97%', 4.0: '2%'}\n",
            "Actual: 2.0. Predicted: {2.0: '97%', 4.0: '2%'}\n",
            "Actual: 4.0. Predicted: {4.0: '85%', 2.0: '14%'}\n",
            "Actual: 2.0. Predicted: {2.0: '97%', 4.0: '2%'}\n",
            "Actual: 2.0. Predicted: {2.0: '97%', 4.0: '2%'}\n",
            "Actual: 2.0. Predicted: {2.0: '97%', 4.0: '2%'}\n",
            "Actual: 2.0. Predicted: {2.0: '97%', 4.0: '2%'}\n",
            "Actual: 4.0. Predicted: {4.0: '85%', 2.0: '14%'}\n",
            "Actual: 4.0. Predicted: {4.0: '85%', 2.0: '14%'}\n",
            "Actual: 4.0. Predicted: {4.0: '85%', 2.0: '14%'}\n",
            "Actual: 2.0. Predicted: {2.0: '97%', 4.0: '2%'}\n",
            "Actual: 2.0. Predicted: {2.0: '97%', 4.0: '2%'}\n",
            "Actual: 2.0. Predicted: {2.0: '97%', 4.0: '2%'}\n",
            "Actual: 4.0. Predicted: {4.0: '85%', 2.0: '14%'}\n",
            "Actual: 4.0. Predicted: {4.0: '85%', 2.0: '14%'}\n",
            "Actual: 2.0. Predicted: {2.0: '97%', 4.0: '2%'}\n",
            "Actual: 2.0. Predicted: {2.0: '97%', 4.0: '2%'}\n",
            "Actual: 2.0. Predicted: {2.0: '97%', 4.0: '2%'}\n",
            "Actual: 2.0. Predicted: {2.0: '97%', 4.0: '2%'}\n",
            "Actual: 2.0. Predicted: {2.0: '97%', 4.0: '2%'}\n",
            "Actual: 2.0. Predicted: {2.0: '97%', 4.0: '2%'}\n",
            "Actual: 2.0. Predicted: {2.0: '97%', 4.0: '2%'}\n",
            "Actual: 2.0. Predicted: {4.0: '85%', 2.0: '14%'}\n",
            "Actual: 4.0. Predicted: {4.0: '85%', 2.0: '14%'}\n",
            "Actual: 4.0. Predicted: {4.0: '85%', 2.0: '14%'}\n",
            "Actual: 2.0. Predicted: {2.0: '97%', 4.0: '2%'}\n",
            "Actual: 2.0. Predicted: {2.0: '97%', 4.0: '2%'}\n",
            "Actual: 2.0. Predicted: {2.0: '97%', 4.0: '2%'}\n",
            "Actual: 4.0. Predicted: {4.0: '85%', 2.0: '14%'}\n",
            "Actual: 4.0. Predicted: {4.0: '85%', 2.0: '14%'}\n",
            "Actual: 2.0. Predicted: {2.0: '97%', 4.0: '2%'}\n",
            "Actual: 4.0. Predicted: {4.0: '85%', 2.0: '14%'}\n",
            "Actual: 4.0. Predicted: {4.0: '85%', 2.0: '14%'}\n",
            "Actual: 2.0. Predicted: {2.0: '97%', 4.0: '2%'}\n",
            "Actual: 4.0. Predicted: {4.0: '85%', 2.0: '14%'}\n",
            "Actual: 2.0. Predicted: {2.0: '97%', 4.0: '2%'}\n",
            "Actual: 4.0. Predicted: {4.0: '85%', 2.0: '14%'}\n",
            "Actual: 2.0. Predicted: {2.0: '97%', 4.0: '2%'}\n",
            "Actual: 2.0. Predicted: {2.0: '97%', 4.0: '2%'}\n",
            "Actual: 4.0. Predicted: {4.0: '85%', 2.0: '14%'}\n",
            "Actual: 2.0. Predicted: {2.0: '97%', 4.0: '2%'}\n",
            "Actual: 2.0. Predicted: {2.0: '97%', 4.0: '2%'}\n",
            "Actual: 2.0. Predicted: {2.0: '97%', 4.0: '2%'}\n",
            "Actual: 2.0. Predicted: {2.0: '97%', 4.0: '2%'}\n",
            "Actual: 2.0. Predicted: {2.0: '97%', 4.0: '2%'}\n",
            "Actual: 2.0. Predicted: {2.0: '97%', 4.0: '2%'}\n",
            "Actual: 2.0. Predicted: {2.0: '97%', 4.0: '2%'}\n",
            "Actual: 2.0. Predicted: {2.0: '97%', 4.0: '2%'}\n",
            "Actual: 2.0. Predicted: {2.0: '97%', 4.0: '2%'}\n",
            "Actual: 2.0. Predicted: {4.0: '85%', 2.0: '14%'}\n",
            "Actual: 2.0. Predicted: {4.0: '85%', 2.0: '14%'}\n",
            "Actual: 2.0. Predicted: {2.0: '97%', 4.0: '2%'}\n",
            "Actual: 4.0. Predicted: {4.0: '85%', 2.0: '14%'}\n",
            "Actual: 2.0. Predicted: {2.0: '97%', 4.0: '2%'}\n",
            "Actual: 2.0. Predicted: {2.0: '97%', 4.0: '2%'}\n",
            "Actual: 2.0. Predicted: {4.0: '85%', 2.0: '14%'}\n",
            "Actual: 2.0. Predicted: {2.0: '97%', 4.0: '2%'}\n",
            "Actual: 2.0. Predicted: {2.0: '97%', 4.0: '2%'}\n",
            "Actual: 2.0. Predicted: {2.0: '97%', 4.0: '2%'}\n",
            "Actual: 2.0. Predicted: {2.0: '97%', 4.0: '2%'}\n",
            "Actual: 4.0. Predicted: {4.0: '85%', 2.0: '14%'}\n",
            "Actual: 2.0. Predicted: {2.0: '97%', 4.0: '2%'}\n",
            "Actual: 2.0. Predicted: {2.0: '97%', 4.0: '2%'}\n",
            "Actual: 2.0. Predicted: {2.0: '97%', 4.0: '2%'}\n",
            "Actual: 2.0. Predicted: {2.0: '97%', 4.0: '2%'}\n",
            "Actual: 2.0. Predicted: {2.0: '97%', 4.0: '2%'}\n",
            "Actual: 4.0. Predicted: {4.0: '85%', 2.0: '14%'}\n",
            "Actual: 4.0. Predicted: {4.0: '85%', 2.0: '14%'}\n",
            "Actual: 4.0. Predicted: {4.0: '85%', 2.0: '14%'}\n",
            "Actual: 2.0. Predicted: {2.0: '97%', 4.0: '2%'}\n",
            "Actual: 4.0. Predicted: {4.0: '85%', 2.0: '14%'}\n",
            "Actual: 4.0. Predicted: {4.0: '85%', 2.0: '14%'}\n",
            "Actual: 2.0. Predicted: {2.0: '97%', 4.0: '2%'}\n",
            "Actual: 2.0. Predicted: {2.0: '97%', 4.0: '2%'}\n",
            "Actual: 4.0. Predicted: {4.0: '85%', 2.0: '14%'}\n",
            "Actual: 2.0. Predicted: {2.0: '97%', 4.0: '2%'}\n",
            "Actual: 2.0. Predicted: {2.0: '97%', 4.0: '2%'}\n",
            "Actual: 2.0. Predicted: {2.0: '97%', 4.0: '2%'}\n",
            "Actual: 4.0. Predicted: {4.0: '85%', 2.0: '14%'}\n",
            "Actual: 4.0. Predicted: {4.0: '85%', 2.0: '14%'}\n",
            "Actual: 2.0. Predicted: {2.0: '97%', 4.0: '2%'}\n",
            "Actual: 2.0. Predicted: {2.0: '97%', 4.0: '2%'}\n",
            "Actual: 2.0. Predicted: {2.0: '97%', 4.0: '2%'}\n",
            "Actual: 4.0. Predicted: {4.0: '85%', 2.0: '14%'}\n",
            "Actual: 2.0. Predicted: {2.0: '97%', 4.0: '2%'}\n",
            "Actual: 2.0. Predicted: {2.0: '97%', 4.0: '2%'}\n",
            "Actual: 2.0. Predicted: {2.0: '97%', 4.0: '2%'}\n",
            "Actual: 2.0. Predicted: {2.0: '97%', 4.0: '2%'}\n",
            "Actual: 2.0. Predicted: {2.0: '97%', 4.0: '2%'}\n",
            "Actual: 4.0. Predicted: {4.0: '85%', 2.0: '14%'}\n",
            "Actual: 2.0. Predicted: {2.0: '97%', 4.0: '2%'}\n",
            "Actual: 4.0. Predicted: {4.0: '85%', 2.0: '14%'}\n",
            "Actual: 4.0. Predicted: {4.0: '85%', 2.0: '14%'}\n",
            "Actual: 2.0. Predicted: {2.0: '97%', 4.0: '2%'}\n",
            "Actual: 4.0. Predicted: {4.0: '85%', 2.0: '14%'}\n",
            "Actual: 2.0. Predicted: {4.0: '85%', 2.0: '14%'}\n",
            "Actual: 2.0. Predicted: {2.0: '97%', 4.0: '2%'}\n",
            "Actual: 2.0. Predicted: {2.0: '97%', 4.0: '2%'}\n",
            "Actual: 2.0. Predicted: {2.0: '97%', 4.0: '2%'}\n",
            "Actual: 2.0. Predicted: {2.0: '97%', 4.0: '2%'}\n",
            "Actual: 2.0. Predicted: {2.0: '97%', 4.0: '2%'}\n",
            "Actual: 2.0. Predicted: {2.0: '97%', 4.0: '2%'}\n",
            "Actual: 4.0. Predicted: {4.0: '85%', 2.0: '14%'}\n",
            "Actual: 4.0. Predicted: {4.0: '85%', 2.0: '14%'}\n",
            "Actual: 4.0. Predicted: {4.0: '85%', 2.0: '14%'}\n",
            "Actual: 2.0. Predicted: {2.0: '97%', 4.0: '2%'}\n",
            "Actual: 2.0. Predicted: {2.0: '97%', 4.0: '2%'}\n",
            "Actual: 4.0. Predicted: {4.0: '85%', 2.0: '14%'}\n",
            "Actual: 2.0. Predicted: {2.0: '97%', 4.0: '2%'}\n",
            "Actual: 4.0. Predicted: {4.0: '85%', 2.0: '14%'}\n",
            "Actual: 2.0. Predicted: {4.0: '85%', 2.0: '14%'}\n",
            "Actual: 4.0. Predicted: {4.0: '85%', 2.0: '14%'}\n",
            "Actual: 2.0. Predicted: {2.0: '97%', 4.0: '2%'}\n",
            "Actual: 2.0. Predicted: {2.0: '97%', 4.0: '2%'}\n",
            "Actual: 2.0. Predicted: {2.0: '97%', 4.0: '2%'}\n",
            "Actual: 2.0. Predicted: {2.0: '97%', 4.0: '2%'}\n",
            "Actual: 2.0. Predicted: {2.0: '97%', 4.0: '2%'}\n",
            "Actual: 2.0. Predicted: {2.0: '97%', 4.0: '2%'}\n",
            "Actual: 4.0. Predicted: {4.0: '85%', 2.0: '14%'}\n",
            "Actual: 4.0. Predicted: {4.0: '85%', 2.0: '14%'}\n",
            "Actual: 2.0. Predicted: {4.0: '85%', 2.0: '14%'}\n",
            "Actual: 2.0. Predicted: {2.0: '97%', 4.0: '2%'}\n",
            "Actual: 2.0. Predicted: {2.0: '97%', 4.0: '2%'}\n",
            "Actual: 2.0. Predicted: {2.0: '97%', 4.0: '2%'}\n",
            "Actual: 4.0. Predicted: {4.0: '85%', 2.0: '14%'}\n",
            "Actual: 4.0. Predicted: {4.0: '85%', 2.0: '14%'}\n",
            "Actual: 2.0. Predicted: {2.0: '97%', 4.0: '2%'}\n",
            "Actual: 4.0. Predicted: {4.0: '85%', 2.0: '14%'}\n",
            "Actual: 4.0. Predicted: {4.0: '85%', 2.0: '14%'}\n",
            "Actual: 2.0. Predicted: {2.0: '97%', 4.0: '2%'}\n",
            "Actual: 2.0. Predicted: {2.0: '97%', 4.0: '2%'}\n",
            "Actual: 2.0. Predicted: {2.0: '97%', 4.0: '2%'}\n",
            "Actual: 4.0. Predicted: {4.0: '85%', 2.0: '14%'}\n",
            "Actual: 2.0. Predicted: {2.0: '97%', 4.0: '2%'}\n",
            "Actual: 2.0. Predicted: {2.0: '97%', 4.0: '2%'}\n",
            "Actual: 4.0. Predicted: {4.0: '85%', 2.0: '14%'}\n",
            "Actual: 2.0. Predicted: {2.0: '97%', 4.0: '2%'}\n",
            "Actual: 4.0. Predicted: {4.0: '85%', 2.0: '14%'}\n",
            "Actual: 2.0. Predicted: {2.0: '97%', 4.0: '2%'}\n",
            "Actual: 2.0. Predicted: {2.0: '97%', 4.0: '2%'}\n",
            "Actual: 2.0. Predicted: {2.0: '97%', 4.0: '2%'}\n",
            "Actual: 2.0. Predicted: {2.0: '97%', 4.0: '2%'}\n",
            "Actual: 2.0. Predicted: {2.0: '97%', 4.0: '2%'}\n",
            "Actual: 4.0. Predicted: {4.0: '85%', 2.0: '14%'}\n",
            "Actual: 2.0. Predicted: {2.0: '97%', 4.0: '2%'}\n",
            "Actual: 4.0. Predicted: {4.0: '85%', 2.0: '14%'}\n",
            "Actual: 2.0. Predicted: {2.0: '97%', 4.0: '2%'}\n",
            "Actual: 2.0. Predicted: {2.0: '97%', 4.0: '2%'}\n",
            "Actual: 4.0. Predicted: {4.0: '85%', 2.0: '14%'}\n",
            "Actual: 2.0. Predicted: {2.0: '97%', 4.0: '2%'}\n",
            "Actual: 2.0. Predicted: {2.0: '97%', 4.0: '2%'}\n",
            "Actual: 4.0. Predicted: {4.0: '85%', 2.0: '14%'}\n",
            "Actual: 4.0. Predicted: {4.0: '85%', 2.0: '14%'}\n",
            "Actual: 4.0. Predicted: {4.0: '85%', 2.0: '14%'}\n",
            "Actual: 4.0. Predicted: {4.0: '85%', 2.0: '14%'}\n",
            "Actual: 4.0. Predicted: {4.0: '85%', 2.0: '14%'}\n",
            "Actual: 2.0. Predicted: {2.0: '97%', 4.0: '2%'}\n",
            "Actual: 2.0. Predicted: {2.0: '97%', 4.0: '2%'}\n",
            "Actual: 2.0. Predicted: {4.0: '85%', 2.0: '14%'}\n",
            "Actual: 2.0. Predicted: {2.0: '97%', 4.0: '2%'}\n",
            "Actual: 4.0. Predicted: {4.0: '85%', 2.0: '14%'}\n",
            "Actual: 4.0. Predicted: {4.0: '85%', 2.0: '14%'}\n",
            "Actual: 4.0. Predicted: {4.0: '85%', 2.0: '14%'}\n",
            "Actual: 2.0. Predicted: {2.0: '97%', 4.0: '2%'}\n",
            "Actual: 4.0. Predicted: {4.0: '85%', 2.0: '14%'}\n",
            "Actual: 4.0. Predicted: {4.0: '85%', 2.0: '14%'}\n",
            "Actual: 2.0. Predicted: {2.0: '97%', 4.0: '2%'}\n",
            "Actual: 2.0. Predicted: {4.0: '85%', 2.0: '14%'}\n",
            "Actual: 2.0. Predicted: {2.0: '97%', 4.0: '2%'}\n",
            "Actual: 4.0. Predicted: {4.0: '85%', 2.0: '14%'}\n",
            "Actual: 2.0. Predicted: {2.0: '97%', 4.0: '2%'}\n",
            "Actual: 4.0. Predicted: {4.0: '85%', 2.0: '14%'}\n",
            "Actual: 2.0. Predicted: {2.0: '97%', 4.0: '2%'}\n",
            "Actual: 2.0. Predicted: {2.0: '97%', 4.0: '2%'}\n",
            "Actual: 4.0. Predicted: {4.0: '85%', 2.0: '14%'}\n",
            "Actual: 2.0. Predicted: {2.0: '97%', 4.0: '2%'}\n",
            "Actual: 2.0. Predicted: {2.0: '97%', 4.0: '2%'}\n",
            "Actual: 2.0. Predicted: {2.0: '97%', 4.0: '2%'}\n",
            "Actual: 2.0. Predicted: {2.0: '97%', 4.0: '2%'}\n",
            "Actual: 2.0. Predicted: {2.0: '97%', 4.0: '2%'}\n",
            "Actual: 2.0. Predicted: {2.0: '97%', 4.0: '2%'}\n",
            "Actual: 4.0. Predicted: {2.0: '97%', 4.0: '2%'}\n",
            "Actual: 2.0. Predicted: {2.0: '97%', 4.0: '2%'}\n",
            "Actual: 4.0. Predicted: {4.0: '85%', 2.0: '14%'}\n",
            "Actual: 2.0. Predicted: {2.0: '97%', 4.0: '2%'}\n",
            "Actual: 2.0. Predicted: {2.0: '97%', 4.0: '2%'}\n",
            "Actual: 2.0. Predicted: {4.0: '85%', 2.0: '14%'}\n",
            "Actual: 2.0. Predicted: {2.0: '97%', 4.0: '2%'}\n",
            "Actual: 2.0. Predicted: {2.0: '97%', 4.0: '2%'}\n",
            "Actual: 4.0. Predicted: {4.0: '85%', 2.0: '14%'}\n",
            "Actual: 2.0. Predicted: {2.0: '97%', 4.0: '2%'}\n",
            "Actual: 4.0. Predicted: {4.0: '85%', 2.0: '14%'}\n",
            "Actual: 2.0. Predicted: {2.0: '97%', 4.0: '2%'}\n",
            "Actual: 4.0. Predicted: {4.0: '85%', 2.0: '14%'}\n",
            "Actual: 4.0. Predicted: {4.0: '85%', 2.0: '14%'}\n",
            "Actual: 4.0. Predicted: {4.0: '85%', 2.0: '14%'}\n",
            "Actual: 2.0. Predicted: {2.0: '97%', 4.0: '2%'}\n",
            "Actual: 4.0. Predicted: {4.0: '85%', 2.0: '14%'}\n",
            "Actual: 2.0. Predicted: {2.0: '97%', 4.0: '2%'}\n",
            "Actual: 4.0. Predicted: {4.0: '85%', 2.0: '14%'}\n",
            "Actual: 2.0. Predicted: {2.0: '97%', 4.0: '2%'}\n",
            "Actual: 2.0. Predicted: {2.0: '97%', 4.0: '2%'}\n",
            "Actual: 2.0. Predicted: {2.0: '97%', 4.0: '2%'}\n",
            "Actual: 2.0. Predicted: {2.0: '97%', 4.0: '2%'}\n",
            "Actual: 2.0. Predicted: {2.0: '97%', 4.0: '2%'}\n",
            "Actual: 2.0. Predicted: {2.0: '97%', 4.0: '2%'}\n",
            "Actual: 2.0. Predicted: {2.0: '97%', 4.0: '2%'}\n"
          ],
          "name": "stdout"
        }
      ]
    }
  ]
}